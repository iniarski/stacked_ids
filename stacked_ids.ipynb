{
 "cells": [
  {
   "cell_type": "markdown",
   "metadata": {},
   "source": [
    "# Data\n",
    "\n",
    "## AWID3 Dataset\n",
    "\n",
    "AWID3 dataset consists of 13 captures of traffic in a wireless network. Of these 7 that focus on attacks on IEEE 802.11 MAC layer. The attacks chosen are: \n",
    "\n",
    "* Deauth\n",
    "* Disass\n",
    "* (Re)Assoc\n",
    "* RogueAP\n",
    "* Krack\n",
    "* Kr00k\n",
    "* Evil Twin\n",
    "\n",
    "## Data preprocessing\n",
    "\n",
    "For training of the model \n",
    "\n",
    "Features selection was based on [Pick Quality Over Quantity: Expert Feature Selection and Data Preprocessing for 802.11 Intrusion Detection Systems](https://ieeexplore.ieee.org/document/9797689) by the authors of the AWID3 dataset:\n",
    "\n",
    "### Features chosen by Chatzoglou et. al. and their preprocessing\n",
    "\n",
    "| Feature                    | Preprocessing    |\n",
    "|----------------------------|------------------|\n",
    "| frame.len                  | Min-Max Scaling  |\n",
    "| radiotap.len               | Min-Max Scaling  |\n",
    "| radiotap.dbm_antsignal     | Min-Max Scaling  |\n",
    "| wlan.duration              | Min-Max Scaling  |\n",
    "| radiotap.present.tsft      | One Hot Encoding |\n",
    "| radiotap.channel.freq      | One Hot Encoding |\n",
    "| radiotap.channel.type.cck  | One Hot Encoding |\n",
    "| radiotap.channel.type.ofdm | One Hot Encoding |\n",
    "| wlan.fc.type               | One Hot Encoding |\n",
    "| wlan.fc.subtype            | One Hot Encoding |\n",
    "| wlan.fc.ds                 | One Hot Encoding |\n",
    "| wlan.fc.frag               | One Hot Encoding |\n",
    "| wlan.fc.retry              | One Hot Encoding |\n",
    "| wlan.fc.pwrmgt             | One Hot Encoding |\n",
    "| wlan.fc.moredata           | One Hot Encoding |\n",
    "| wlan.fc.protected          | One Hot Encoding |\n",
    "\n",
    "The chosen features were prepocessed with following differences:\n",
    "* frame.delta_time was was was added, as it is crucial for analyzing temproal patterns.\n",
    "* features expressed by 0/1 values, such as IEEE 802.11 Frame Control flags were left unchanged (e.g. frag, retry), not One Hot Encoded as in above mentioned article.\n",
    "* the authors  One Hot Encoding of channel frequencies, however such approach is only feasable, when there rather few categories (3 frequencies were used in the above mentioned files), so a more genral method of preprocessing frequncy is proposed:\n",
    "    * create two binary features `2ghz_spectrum` and `5ghz_spectrum` to indicate in which band a frame was sent\n",
    "    * apply Min-Max Scaling to frequency, using the highest and the lowest channel frequency in given band as Min and Max values, as seen below"
   ]
  },
  {
   "cell_type": "code",
   "execution_count": 1,
   "metadata": {},
   "outputs": [],
   "source": [
    "def preporcess_frequency(radiotap_channel_freq):\n",
    "    lower_2ghz, higer_2ghz = 2412, 2472\n",
    "    lower_5ghz, higher_5gzh = 5160, 5885\n",
    "    \n",
    "    if (lower_2ghz <= radiotap_channel_freq <= higer_2ghz):\n",
    "        _2ghz_spectrum = 1\n",
    "        _5gzh_spectrum = 0\n",
    "        freq = (radiotap_channel_freq - lower_2ghz) / (higer_2ghz - lower_2ghz)\n",
    "    elif (lower_5ghz <= radiotap_channel_freq <= higer_5ghz):\n",
    "        _2ghz_spectrum = 0\n",
    "        _5gzh_spectrum = 1\n",
    "        freq = (radiotap_channel_freq - lower_5ghz) / (higer_5ghz - lower_5ghz)\n",
    "    else:\n",
    "        _2ghz_spectrum = 0\n",
    "        _5gzh_spectrum = 0\n",
    "        freq = -1\n",
    "        \n",
    "    return _2ghz_spectrum, _5gzh_spectrum, freq\n",
    "     "
   ]
  },
  {
   "cell_type": "markdown",
   "metadata": {},
   "source": [
    "### Features and used preprocessing\n",
    "\n",
    "| Feature                   | Type        | Preprocessing       | Values                    | Description                                                                                                       |\n",
    "|---------------------------|-------------|---------------------|---------------------------|-------------------------------------------------------------------------------------------------------------------|\n",
    "| frame.len                 | numeric     | Min-Max Scaling     | from 70 to 3220           | Length of frame, in bytes                                                                                         |\n",
    "| frame.time_delta          | numeric     | Min-Max Scaling     | from 0 to 0.001817        | Time interval since previous frame, in seconds                                                                    |\n",
    "| radiotap.len              | numeric     | Min-Max Scaling     | from 48 to 64             | Length of Radiotap header, in bytes                                                                               |\n",
    "| radiotap.dbm_antsignal    | numeric     | Min-Max Scaling     | form -255 to -78          | Strength of recieved signal, in dBm. In AWID3 CSV files the value was summarized for antennas, hence very low values |\n",
    "| wlan.duration             | numeric     | Min-Max Scaling     | from 0 to 726             | Duration/Id field in IEEE 802.11 header                                                                           |\n",
    "| wlan.fc.type              | categorical | One Hot Encoding    | 0, 1, 2                   | IEEE 802.11 frame type: Management, Control or Data                                                               |\n",
    "| wlan.fc.subtype           | categorical | One Hot Encoding    | 0, 1, ... 14, 15          | IEEE 802.11 frame subtype                                                                                         |\n",
    "| wlan.fc.ds                | categorical | One Hot Encoding    | 0, 1, 2, 3                | Indicates whete a frame was sent to (tods) or from (fromds) a Distribution System (ds), neither or both           |\n",
    "| radiotap.present.tsft     | binary      | convert to 0,1      | '0-0-0', '1-0-0'          | Presence of TSFT (Time Synchroniztion Function) in Radiotap header                                                |\n",
    "| radiotap.channel.type.cck | binary      | None                | 0, 1                      | Whether frame was sent using CCK (Complemantary Code Keying), used in IEEE 802.11b                                |\n",
    "| radiotap.channel.type.ofdm | binary     | None                | 0, 1                      | Whether frame was sent using OFDM (Orthognal Frequency Division Multiplexing) modulation                          |\n",
    "| wlan.fc.frag              | binary      | None                | 0, 1                      | Frame Control flag, indicates if the frame was fragmented                                                         |\n",
    "| wlan.fc.retry             | binary      | None                | 0, 1                      | Frame Control flag, indicates if the frame is retransmission of a previous frame                                  |\n",
    "| wlan.fc.pwrmgt            | binary      | None                | 0, 1                      | Frame Control flag, used when station enters power management state                                               |\n",
    "| wlan.fc.moredata          | binary      | None                | 0, 1                      | Frame Control flag, indicates that AP has buffered for the station                                                |\n",
    "| wlan.fc.protected         | binary      | None                | 0, 1                      | Frame Control flag, indicates that frame has been encrypted                                                       |\n",
    "| 2ghz_spectrum             | binary      | None                | 0, 1                      | The channel the frame was sent in is in 2.4GHz band                                                               |\n",
    "| 5ghz_spectrum             | binary      | None                | 0, 1                      | The channel the frame was sent in is in 5GHz band                                                                 |\n",
    "| freq                      | numeric     | As described above  | from 0 to 1               | Frequency scaled for the band station works in                                                                    |\n",
    "| Label                     | Categorical | Convert to 0, 1, 2  | 'Normal' and attacks      | Label of given to the frame                                                                                      | \n",
    "\n",
    "Minimal and maximal values for ranges were estimated accros all AWID3 files, IQR was used to exckude otliers, that were then clipped into range 0, 1.\n",
    "\n",
    "The traffic was divided into 3 classes:\n",
    "\n",
    "Classes:\n",
    "\n",
    "| Class | name           | Attacks                                                               |\n",
    "|-------|----------------|-----------------------------------------------------------------------|\n",
    "| 0     | normal         |                                                                       |\n",
    "| 1     | flooding       | Deauth, Disass, (Re)Assoc, Kr00k                                      |\n",
    "| 2     | impersonation  | RogueAP, Krack, Evil Twin                                             |\n",
    "\n",
    "Both binary, and multiclass classificators were trained and evaluated on the dataset."
   ]
  },
  {
   "cell_type": "code",
   "execution_count": 2,
   "metadata": {},
   "outputs": [
    {
     "name": "stderr",
     "output_type": "stream",
     "text": [
      "WARNING: All log messages before absl::InitializeLog() is called are written to STDERR\n",
      "E0000 00:00:1732559655.105928  122077 cuda_dnn.cc:8310] Unable to register cuDNN factory: Attempting to register factory for plugin cuDNN when one has already been registered\n",
      "E0000 00:00:1732559655.112231  122077 cuda_blas.cc:1418] Unable to register cuBLAS factory: Attempting to register factory for plugin cuBLAS when one has already been registered\n"
     ]
    }
   ],
   "source": [
    "import os\n",
    "os.environ['TF_CPP_MIN_LOG_LEVEL'] = '3'\n",
    "import tensorflow as tf\n",
    "import numpy as np\n",
    "\n",
    "tfrecords_dir='dataset/AWID3_tfrecords'\n",
    "tfrecords_balanced_dir='dataset/AWID3_tfrecords_balanced'\n",
    "\n",
    "sequence_length = 32\n",
    "sequence_shift = 30\n",
    "n_features = 39\n",
    "\n",
    "from collections import defaultdict"
   ]
  },
  {
   "cell_type": "code",
   "execution_count": 3,
   "metadata": {},
   "outputs": [
    {
     "name": "stdout",
     "output_type": "stream",
     "text": [
      "Training set:\n",
      "Disas_35, RogueAP_27, (Re)Assoc_32, Deauth_31, Kr00k_55, Evil_Twin_75, (Re)Assoc_35, Krack_25, Kr00k_53, (Re)Assoc_28, Evil_Twin_70, Evil_Twin_62, (Re)Assoc_27, Evil_Twin_54, Evil_Twin_65, Kr00k_56, RogueAP_29, Evil_Twin_50, Disas_37, Kr00k_39, Disas_36, Evil_Twin_33, Kr00k_36, RogueAP_33, RogueAP_39, (Re)Assoc_24, (Re)Assoc_34, Evil_Twin_47, RogueAP_37, Disas_39, (Re)Assoc_25, Deauth_29, Kr00k_43, Kr00k_48, Deauth_32, Evil_Twin_74, Deauth_27, Disas_28, Kr00k_35, Kr00k_51, Deauth_21, Evil_Twin_48, RogueAP_31, Evil_Twin_73, Kr00k_46, Evil_Twin_29, Evil_Twin_72, Evil_Twin_67, Disas_40, Evil_Twin_57, (Re)Assoc_31, Disas_31, Disas_29, RogueAP_28, Evil_Twin_37, Evil_Twin_69, Kr00k_44, Evil_Twin_43, Krack_26, Evil_Twin_41, Deauth_25, Evil_Twin_71, Evil_Twin_40, (Re)Assoc_26, RogueAP_24, Deauth_24, Kr00k_54, Evil_Twin_60, Kr00k_34, RogueAP_26, Evil_Twin_46, Kr00k_40, RogueAP_25, Evil_Twin_30, Evil_Twin_61, Deauth_23, Evil_Twin_63, RogueAP_35, Evil_Twin_53, Evil_Twin_32, Evil_Twin_51, Kr00k_32, Kr00k_33, Deauth_22, Evil_Twin_66, Kr00k_42, (Re)Assoc_22, Evil_Twin_36, (Re)Assoc_23, Disas_38, \n",
      "Validation set:\n",
      "Kr00k_57, Krack_27, Deauth_30, Evil_Twin_49, RogueAP_38, Disas_34, Evil_Twin_44, Kr00k_38, RogueAP_34, Evil_Twin_31, Evil_Twin_42, Evil_Twin_59, Kr00k_50, (Re)Assoc_33, Disas_32, Kr00k_41, (Re)Assoc_36, Evil_Twin_68, Evil_Twin_64, \n",
      "Test set:\n",
      "Kr00k_47, Evil_Twin_39, (Re)Assoc_30, Evil_Twin_56, Evil_Twin_52, Krack_28, Evil_Twin_34, Kr00k_52, Kr00k_37, Evil_Twin_38, RogueAP_32, Disas_30, RogueAP_36, (Re)Assoc_29, Deauth_26, Kr00k_31, Evil_Twin_45, Disas_33, Deauth_28, Evil_Twin_35, RogueAP_30, Evil_Twin_58, Kr00k_49, Evil_Twin_55, "
     ]
    }
   ],
   "source": [
    "import data_utils\n",
    "\n",
    "files = os.listdir(tfrecords_dir)\n",
    "\n",
    "train_ratio = 0.8\n",
    "train_files, test_files = data_utils.train_test_split(files, train_ratio=train_ratio)\n",
    "train_files, val_files = data_utils.train_test_split(train_files, train_ratio=train_ratio)\n",
    "\n",
    "print(\"Training set:\")\n",
    "for t in train_files:\n",
    "    print(t.split('.')[0], end=', ')\n",
    "\n",
    "print(\"\\nValidation set:\")\n",
    "for t in val_files:\n",
    "    print(t.split('.')[0], end=', ')\n",
    "\n",
    "print(\"\\nTest set:\")\n",
    "for t in test_files:\n",
    "    print(t.split('.')[0], end=', ')\n",
    "    \n",
    "train_seq_files = [os.path.join(tfrecords_dir, f) for f in train_files]\n",
    "val_seq_files = [os.path.join(tfrecords_dir, f) for f in val_files]\n",
    "test_seq_files = [os.path.join(tfrecords_dir, f) for f in test_files]\n",
    "train_bal_files = [os.path.join(tfrecords_balanced_dir, f) for f in train_files]\n",
    "val_bal_files = [os.path.join(tfrecords_balanced_dir, f) for f in val_files]\n",
    "test_bal_files = [os.path.join(tfrecords_balanced_dir, f) for f in test_files]\n",
    "\n"
   ]
  },
  {
   "cell_type": "code",
   "execution_count": 4,
   "metadata": {},
   "outputs": [],
   "source": [
    "import matplotlib.pyplot as plt\n",
    "from sklearn.metrics import confusion_matrix, accuracy_score, precision_score, recall_score, f1_score, cohen_kappa_score\n",
    "import seaborn as sns\n",
    "\n",
    "# functions for plotting and confusion matrix\n",
    "\n",
    "def score_and_confusion_matrix(y_pred, y_true, title : str, binary = True, average='binary'):\n",
    "    class_names = [\n",
    "        'Normal', 'Attack'\n",
    "    ] if binary else [\n",
    "        'Normal', 'Flooding', 'Impersonation'\n",
    "    ]\n",
    "    \n",
    "    accuracy = accuracy_score(y_true, y_pred)\n",
    "    precision = precision_score(y_true, y_pred, average=average)\n",
    "    recall = recall_score(y_true, y_pred, average=average)\n",
    "    f1 = f1_score(y_true, y_pred, average=average)\n",
    "    kappa = cohen_kappa_score(y_true, y_pred)\n",
    "    print(f'Accuracy: {100*accuracy:2.3f}%')\n",
    "    print(f'Precision: {100*precision:2.3f}%')\n",
    "    print(f'Recall: {100*recall:2.3f}%')\n",
    "    print(f'F1 : {f1:.4f}')\n",
    "    print(f'Kappa: {kappa:.4f}')\n",
    "    \n",
    "    conf_matrix = confusion_matrix(y_true, y_pred)\n",
    "\n",
    "    plt.figure(figsize=(10, 8))\n",
    "    sns.heatmap(conf_matrix, annot=True, fmt='d', cmap='Blues', xticklabels=class_names, yticklabels=class_names)\n",
    "    plt.xlabel('Predicted')\n",
    "    plt.ylabel('True')\n",
    "    plt.title('Confusion Matrix: ' + title)\n",
    "    plt.show()\n",
    "    \n",
    "    return accuracy, precision, recall, f1, kappa\n",
    "    \n",
    "def plot_model_history(history, title):\n",
    "    \n",
    "    fig, axes = plt.subplots(2, 2, figsize=(15, 10))\n",
    "    fig.suptitle(title)\n",
    "    \n",
    "    if 'accuracy' in history:\n",
    "        axes[0, 0].plot(history['accuracy'], label='Train Accuracy')\n",
    "        if 'val_accuracy' in history:\n",
    "            axes[0, 0].plot(history['val_accuracy'], label='Val Accuracy')\n",
    "        axes[0, 0].set_title('Accuracy')\n",
    "        axes[0, 0].set_xlabel('Epochs')\n",
    "        axes[0, 0].set_ylabel('Accuracy')\n",
    "        axes[0, 0].set_ylim(min(min(history['accuracy']), 0.8),1)\n",
    "        axes[0, 0].legend()\n",
    "    \n",
    "    # Plot Precision\n",
    "    if 'precision' in history:\n",
    "        axes[0, 1].plot(history['precision'], label='Train Precision')\n",
    "        if 'val_precision' in history:\n",
    "            axes[0, 1].plot(history['val_precision'], label='Val Precision')\n",
    "        axes[0, 1].set_title('Precision')\n",
    "        axes[0, 1].set_xlabel('Epochs')\n",
    "        axes[0, 1].set_ylabel('Precision')\n",
    "        axes[0, 1].set_ylim(min(min(history['precision']), 0.8),1)\n",
    "        axes[0, 1].legend()\n",
    "    \n",
    "    if 'recall' in history:\n",
    "        axes[1, 0].plot(history['recall'], label='Train Recall')\n",
    "        if 'val_recall' in history:\n",
    "            axes[1, 0].plot(history['val_recall'], label='Val Recall')\n",
    "        axes[1, 0].set_title('Recall')\n",
    "        axes[1, 0].set_xlabel('Epochs')\n",
    "        axes[1, 0].set_ylabel('Recall')\n",
    "        axes[1, 0].set_ylim(min(min(history['recall']), 0.8),1)\n",
    "        axes[1, 0].legend()\n",
    "    \n",
    "    if 'loss' in history:\n",
    "        axes[1, 1].plot(history['loss'], label='Train Loss')\n",
    "        if 'val_loss' in history:\n",
    "            axes[1, 1].plot(history['val_loss'], label='Val Loss')\n",
    "        axes[1, 1].set_title('Loss')\n",
    "        axes[1, 1].set_xlabel('Epochs')\n",
    "        axes[1, 1].set_ylabel('Loss')\n",
    "        axes[1, 1].legend()    \n",
    "    plt.tight_layout()\n",
    "    plt.show()\n",
    "        "
   ]
  },
  {
   "cell_type": "code",
   "execution_count": 5,
   "metadata": {},
   "outputs": [
    {
     "name": "stderr",
     "output_type": "stream",
     "text": [
      "I0000 00:00:1732559661.983460  122077 gpu_device.cc:2022] Created device /job:localhost/replica:0/task:0/device:GPU:0 with 4773 MB memory:  -> device: 0, name: NVIDIA GeForce GTX 1060 6GB, pci bus id: 0000:01:00.0, compute capability: 6.1\n"
     ]
    },
    {
     "name": "stdout",
     "output_type": "stream",
     "text": [
      "Model loaded from saved_models/binary_cnn_lstm.keras\n"
     ]
    },
    {
     "data": {
      "text/html": [
       "<pre style=\"white-space:pre;overflow-x:auto;line-height:normal;font-family:Menlo,'DejaVu Sans Mono',consolas,'Courier New',monospace\"><span style=\"font-weight: bold\">Model: \"sequential\"</span>\n",
       "</pre>\n"
      ],
      "text/plain": [
       "\u001b[1mModel: \"sequential\"\u001b[0m\n"
      ]
     },
     "metadata": {},
     "output_type": "display_data"
    },
    {
     "data": {
      "text/html": [
       "<pre style=\"white-space:pre;overflow-x:auto;line-height:normal;font-family:Menlo,'DejaVu Sans Mono',consolas,'Courier New',monospace\">┏━━━━━━━━━━━━━━━━━━━━━━━━━━━━━━━━━┳━━━━━━━━━━━━━━━━━━━━━━━━┳━━━━━━━━━━━━━━━┓\n",
       "┃<span style=\"font-weight: bold\"> Layer (type)                    </span>┃<span style=\"font-weight: bold\"> Output Shape           </span>┃<span style=\"font-weight: bold\">       Param # </span>┃\n",
       "┡━━━━━━━━━━━━━━━━━━━━━━━━━━━━━━━━━╇━━━━━━━━━━━━━━━━━━━━━━━━╇━━━━━━━━━━━━━━━┩\n",
       "│ conv1d (<span style=\"color: #0087ff; text-decoration-color: #0087ff\">Conv1D</span>)                 │ (<span style=\"color: #00d7ff; text-decoration-color: #00d7ff\">None</span>, <span style=\"color: #00d7ff; text-decoration-color: #00d7ff\">None</span>, <span style=\"color: #00af00; text-decoration-color: #00af00\">128</span>)      │        <span style=\"color: #00af00; text-decoration-color: #00af00\">25,088</span> │\n",
       "├─────────────────────────────────┼────────────────────────┼───────────────┤\n",
       "│ dropout (<span style=\"color: #0087ff; text-decoration-color: #0087ff\">Dropout</span>)               │ (<span style=\"color: #00d7ff; text-decoration-color: #00d7ff\">None</span>, <span style=\"color: #00d7ff; text-decoration-color: #00d7ff\">None</span>, <span style=\"color: #00af00; text-decoration-color: #00af00\">128</span>)      │             <span style=\"color: #00af00; text-decoration-color: #00af00\">0</span> │\n",
       "├─────────────────────────────────┼────────────────────────┼───────────────┤\n",
       "│ lstm (<span style=\"color: #0087ff; text-decoration-color: #0087ff\">LSTM</span>)                     │ (<span style=\"color: #00d7ff; text-decoration-color: #00d7ff\">None</span>, <span style=\"color: #00d7ff; text-decoration-color: #00d7ff\">None</span>, <span style=\"color: #00af00; text-decoration-color: #00af00\">128</span>)      │       <span style=\"color: #00af00; text-decoration-color: #00af00\">131,584</span> │\n",
       "├─────────────────────────────────┼────────────────────────┼───────────────┤\n",
       "│ time_distributed                │ (<span style=\"color: #00d7ff; text-decoration-color: #00d7ff\">None</span>, <span style=\"color: #00d7ff; text-decoration-color: #00d7ff\">None</span>, <span style=\"color: #00af00; text-decoration-color: #00af00\">128</span>)      │             <span style=\"color: #00af00; text-decoration-color: #00af00\">0</span> │\n",
       "│ (<span style=\"color: #0087ff; text-decoration-color: #0087ff\">TimeDistributed</span>)               │                        │               │\n",
       "├─────────────────────────────────┼────────────────────────┼───────────────┤\n",
       "│ lstm_1 (<span style=\"color: #0087ff; text-decoration-color: #0087ff\">LSTM</span>)                   │ (<span style=\"color: #00d7ff; text-decoration-color: #00d7ff\">None</span>, <span style=\"color: #00d7ff; text-decoration-color: #00d7ff\">None</span>, <span style=\"color: #00af00; text-decoration-color: #00af00\">64</span>)       │        <span style=\"color: #00af00; text-decoration-color: #00af00\">49,408</span> │\n",
       "├─────────────────────────────────┼────────────────────────┼───────────────┤\n",
       "│ time_distributed_1              │ (<span style=\"color: #00d7ff; text-decoration-color: #00d7ff\">None</span>, <span style=\"color: #00d7ff; text-decoration-color: #00d7ff\">None</span>, <span style=\"color: #00af00; text-decoration-color: #00af00\">64</span>)       │             <span style=\"color: #00af00; text-decoration-color: #00af00\">0</span> │\n",
       "│ (<span style=\"color: #0087ff; text-decoration-color: #0087ff\">TimeDistributed</span>)               │                        │               │\n",
       "├─────────────────────────────────┼────────────────────────┼───────────────┤\n",
       "│ time_distributed_2              │ (<span style=\"color: #00d7ff; text-decoration-color: #00d7ff\">None</span>, <span style=\"color: #00d7ff; text-decoration-color: #00d7ff\">None</span>, <span style=\"color: #00af00; text-decoration-color: #00af00\">32</span>)       │         <span style=\"color: #00af00; text-decoration-color: #00af00\">2,080</span> │\n",
       "│ (<span style=\"color: #0087ff; text-decoration-color: #0087ff\">TimeDistributed</span>)               │                        │               │\n",
       "├─────────────────────────────────┼────────────────────────┼───────────────┤\n",
       "│ time_distributed_3              │ (<span style=\"color: #00d7ff; text-decoration-color: #00d7ff\">None</span>, <span style=\"color: #00d7ff; text-decoration-color: #00d7ff\">None</span>, <span style=\"color: #00af00; text-decoration-color: #00af00\">32</span>)       │             <span style=\"color: #00af00; text-decoration-color: #00af00\">0</span> │\n",
       "│ (<span style=\"color: #0087ff; text-decoration-color: #0087ff\">TimeDistributed</span>)               │                        │               │\n",
       "├─────────────────────────────────┼────────────────────────┼───────────────┤\n",
       "│ time_distributed_4              │ (<span style=\"color: #00d7ff; text-decoration-color: #00d7ff\">None</span>, <span style=\"color: #00d7ff; text-decoration-color: #00d7ff\">None</span>, <span style=\"color: #00af00; text-decoration-color: #00af00\">1</span>)        │            <span style=\"color: #00af00; text-decoration-color: #00af00\">33</span> │\n",
       "│ (<span style=\"color: #0087ff; text-decoration-color: #0087ff\">TimeDistributed</span>)               │                        │               │\n",
       "└─────────────────────────────────┴────────────────────────┴───────────────┘\n",
       "</pre>\n"
      ],
      "text/plain": [
       "┏━━━━━━━━━━━━━━━━━━━━━━━━━━━━━━━━━┳━━━━━━━━━━━━━━━━━━━━━━━━┳━━━━━━━━━━━━━━━┓\n",
       "┃\u001b[1m \u001b[0m\u001b[1mLayer (type)                   \u001b[0m\u001b[1m \u001b[0m┃\u001b[1m \u001b[0m\u001b[1mOutput Shape          \u001b[0m\u001b[1m \u001b[0m┃\u001b[1m \u001b[0m\u001b[1m      Param #\u001b[0m\u001b[1m \u001b[0m┃\n",
       "┡━━━━━━━━━━━━━━━━━━━━━━━━━━━━━━━━━╇━━━━━━━━━━━━━━━━━━━━━━━━╇━━━━━━━━━━━━━━━┩\n",
       "│ conv1d (\u001b[38;5;33mConv1D\u001b[0m)                 │ (\u001b[38;5;45mNone\u001b[0m, \u001b[38;5;45mNone\u001b[0m, \u001b[38;5;34m128\u001b[0m)      │        \u001b[38;5;34m25,088\u001b[0m │\n",
       "├─────────────────────────────────┼────────────────────────┼───────────────┤\n",
       "│ dropout (\u001b[38;5;33mDropout\u001b[0m)               │ (\u001b[38;5;45mNone\u001b[0m, \u001b[38;5;45mNone\u001b[0m, \u001b[38;5;34m128\u001b[0m)      │             \u001b[38;5;34m0\u001b[0m │\n",
       "├─────────────────────────────────┼────────────────────────┼───────────────┤\n",
       "│ lstm (\u001b[38;5;33mLSTM\u001b[0m)                     │ (\u001b[38;5;45mNone\u001b[0m, \u001b[38;5;45mNone\u001b[0m, \u001b[38;5;34m128\u001b[0m)      │       \u001b[38;5;34m131,584\u001b[0m │\n",
       "├─────────────────────────────────┼────────────────────────┼───────────────┤\n",
       "│ time_distributed                │ (\u001b[38;5;45mNone\u001b[0m, \u001b[38;5;45mNone\u001b[0m, \u001b[38;5;34m128\u001b[0m)      │             \u001b[38;5;34m0\u001b[0m │\n",
       "│ (\u001b[38;5;33mTimeDistributed\u001b[0m)               │                        │               │\n",
       "├─────────────────────────────────┼────────────────────────┼───────────────┤\n",
       "│ lstm_1 (\u001b[38;5;33mLSTM\u001b[0m)                   │ (\u001b[38;5;45mNone\u001b[0m, \u001b[38;5;45mNone\u001b[0m, \u001b[38;5;34m64\u001b[0m)       │        \u001b[38;5;34m49,408\u001b[0m │\n",
       "├─────────────────────────────────┼────────────────────────┼───────────────┤\n",
       "│ time_distributed_1              │ (\u001b[38;5;45mNone\u001b[0m, \u001b[38;5;45mNone\u001b[0m, \u001b[38;5;34m64\u001b[0m)       │             \u001b[38;5;34m0\u001b[0m │\n",
       "│ (\u001b[38;5;33mTimeDistributed\u001b[0m)               │                        │               │\n",
       "├─────────────────────────────────┼────────────────────────┼───────────────┤\n",
       "│ time_distributed_2              │ (\u001b[38;5;45mNone\u001b[0m, \u001b[38;5;45mNone\u001b[0m, \u001b[38;5;34m32\u001b[0m)       │         \u001b[38;5;34m2,080\u001b[0m │\n",
       "│ (\u001b[38;5;33mTimeDistributed\u001b[0m)               │                        │               │\n",
       "├─────────────────────────────────┼────────────────────────┼───────────────┤\n",
       "│ time_distributed_3              │ (\u001b[38;5;45mNone\u001b[0m, \u001b[38;5;45mNone\u001b[0m, \u001b[38;5;34m32\u001b[0m)       │             \u001b[38;5;34m0\u001b[0m │\n",
       "│ (\u001b[38;5;33mTimeDistributed\u001b[0m)               │                        │               │\n",
       "├─────────────────────────────────┼────────────────────────┼───────────────┤\n",
       "│ time_distributed_4              │ (\u001b[38;5;45mNone\u001b[0m, \u001b[38;5;45mNone\u001b[0m, \u001b[38;5;34m1\u001b[0m)        │            \u001b[38;5;34m33\u001b[0m │\n",
       "│ (\u001b[38;5;33mTimeDistributed\u001b[0m)               │                        │               │\n",
       "└─────────────────────────────────┴────────────────────────┴───────────────┘\n"
      ]
     },
     "metadata": {},
     "output_type": "display_data"
    },
    {
     "data": {
      "text/html": [
       "<pre style=\"white-space:pre;overflow-x:auto;line-height:normal;font-family:Menlo,'DejaVu Sans Mono',consolas,'Courier New',monospace\"><span style=\"font-weight: bold\"> Total params: </span><span style=\"color: #00af00; text-decoration-color: #00af00\">624,581</span> (2.38 MB)\n",
       "</pre>\n"
      ],
      "text/plain": [
       "\u001b[1m Total params: \u001b[0m\u001b[38;5;34m624,581\u001b[0m (2.38 MB)\n"
      ]
     },
     "metadata": {},
     "output_type": "display_data"
    },
    {
     "data": {
      "text/html": [
       "<pre style=\"white-space:pre;overflow-x:auto;line-height:normal;font-family:Menlo,'DejaVu Sans Mono',consolas,'Courier New',monospace\"><span style=\"font-weight: bold\"> Trainable params: </span><span style=\"color: #00af00; text-decoration-color: #00af00\">208,193</span> (813.25 KB)\n",
       "</pre>\n"
      ],
      "text/plain": [
       "\u001b[1m Trainable params: \u001b[0m\u001b[38;5;34m208,193\u001b[0m (813.25 KB)\n"
      ]
     },
     "metadata": {},
     "output_type": "display_data"
    },
    {
     "data": {
      "text/html": [
       "<pre style=\"white-space:pre;overflow-x:auto;line-height:normal;font-family:Menlo,'DejaVu Sans Mono',consolas,'Courier New',monospace\"><span style=\"font-weight: bold\"> Non-trainable params: </span><span style=\"color: #00af00; text-decoration-color: #00af00\">0</span> (0.00 B)\n",
       "</pre>\n"
      ],
      "text/plain": [
       "\u001b[1m Non-trainable params: \u001b[0m\u001b[38;5;34m0\u001b[0m (0.00 B)\n"
      ]
     },
     "metadata": {},
     "output_type": "display_data"
    },
    {
     "data": {
      "text/html": [
       "<pre style=\"white-space:pre;overflow-x:auto;line-height:normal;font-family:Menlo,'DejaVu Sans Mono',consolas,'Courier New',monospace\"><span style=\"font-weight: bold\"> Optimizer params: </span><span style=\"color: #00af00; text-decoration-color: #00af00\">416,388</span> (1.59 MB)\n",
       "</pre>\n"
      ],
      "text/plain": [
       "\u001b[1m Optimizer params: \u001b[0m\u001b[38;5;34m416,388\u001b[0m (1.59 MB)\n"
      ]
     },
     "metadata": {},
     "output_type": "display_data"
    }
   ],
   "source": [
    "import binary_cnn_lstm\n",
    "import data_utils\n",
    "\n",
    "bin_cnn_lstm_model = binary_cnn_lstm.binary_CNN_LSTM_model()\n",
    "\n",
    "if not bin_cnn_lstm_model.built:\n",
    "    dataset_lambda = lambda x: data_utils.create_binary_sequential_dataset(x)\n",
    "    histories = data_utils.step_training(\n",
    "        train_seq_files,\n",
    "        val_seq_files,\n",
    "        bin_cnn_lstm_model,\n",
    "        dataset_lambda,\n",
    "        epochs_per_step=4,\n",
    "        training_callbacks=[binary_cnn_lstm.checkpoint_callback],\n",
    "        n_initial_files = 5,\n",
    "        increment = 0.5\n",
    "        \n",
    "    )\n",
    "    history = defaultdict(list)\n",
    "    for h in histories:\n",
    "        for metric, values in h.items():\n",
    "            history[metric].extend(values) \n",
    "    \n",
    "    plot_model_history(history, \"Binary CNN-LSTM\")\n",
    "    print(history)\n",
    "    #loading best checkpoint\n",
    "    bin_cnn_lstm_model = binary_cnn_lstm.binary_CNN_LSTM_model()\n",
    "    \n",
    "    \n",
    "bin_cnn_lstm_model.summary()\n"
   ]
  },
  {
   "cell_type": "code",
   "execution_count": 6,
   "metadata": {},
   "outputs": [
    {
     "name": "stderr",
     "output_type": "stream",
     "text": [
      "I0000 00:00:1732559773.323199  158195 cuda_dnn.cc:529] Loaded cuDNN version 90300\n"
     ]
    },
    {
     "name": "stdout",
     "output_type": "stream",
     "text": [
      "\u001b[1m612/612\u001b[0m \u001b[32m━━━━━━━━━━━━━━━━━━━━\u001b[0m\u001b[37m\u001b[0m \u001b[1m6s\u001b[0m 7ms/step\n",
      "Accuracy: 99.091%\n",
      "Precision: 94.089%\n",
      "Recall: 99.011%\n",
      "F1 : 0.9649\n",
      "Kappa: 0.9597\n"
     ]
    },
    {
     "data": {
      "image/png": "[encoded data removed]",
      "text/plain": [
       "<Figure size 1000x800 with 2 Axes>"
      ]
     },
     "metadata": {},
     "output_type": "display_data"
    }
   ],
   "source": [
    "binary_sequential_test_ds = data_utils.create_binary_sequential_dataset(test_seq_files)\n",
    "features = []\n",
    "labels = []\n",
    "\n",
    "for x, y in binary_sequential_test_ds:\n",
    "    features.append(x)\n",
    "    labels.append(y)\n",
    "\n",
    "features = tf.concat(features, axis=0)\n",
    "labels = tf.concat(labels, axis=0)\n",
    "\n",
    "y_pred = bin_cnn_lstm_model.predict(features)\n",
    "y_pred = (y_pred > 0.5).astype(int).flatten()\n",
    "y_true = labels.numpy().flatten()\n",
    "    \n",
    "bin_cnn_lstm_metrics = score_and_confusion_matrix(y_pred, y_true, \"Binary CNN-LSTM\")\n"
   ]
  },
  {
   "cell_type": "code",
   "execution_count": 7,
   "metadata": {},
   "outputs": [
    {
     "name": "stdout",
     "output_type": "stream",
     "text": [
      "Model loaded from saved_models/binary_td_cnn.keras\n"
     ]
    },
    {
     "data": {
      "text/html": [
       "<pre style=\"white-space:pre;overflow-x:auto;line-height:normal;font-family:Menlo,'DejaVu Sans Mono',consolas,'Courier New',monospace\"><span style=\"font-weight: bold\">Model: \"sequential\"</span>\n",
       "</pre>\n"
      ],
      "text/plain": [
       "\u001b[1mModel: \"sequential\"\u001b[0m\n"
      ]
     },
     "metadata": {},
     "output_type": "display_data"
    },
    {
     "data": {
      "text/html": [
       "<pre style=\"white-space:pre;overflow-x:auto;line-height:normal;font-family:Menlo,'DejaVu Sans Mono',consolas,'Courier New',monospace\">┏━━━━━━━━━━━━━━━━━━━━━━━━━━━━━━━━━┳━━━━━━━━━━━━━━━━━━━━━━━━┳━━━━━━━━━━━━━━━┓\n",
       "┃<span style=\"font-weight: bold\"> Layer (type)                    </span>┃<span style=\"font-weight: bold\"> Output Shape           </span>┃<span style=\"font-weight: bold\">       Param # </span>┃\n",
       "┡━━━━━━━━━━━━━━━━━━━━━━━━━━━━━━━━━╇━━━━━━━━━━━━━━━━━━━━━━━━╇━━━━━━━━━━━━━━━┩\n",
       "│ conv1d (<span style=\"color: #0087ff; text-decoration-color: #0087ff\">Conv1D</span>)                 │ (<span style=\"color: #00d7ff; text-decoration-color: #00d7ff\">None</span>, <span style=\"color: #00d7ff; text-decoration-color: #00d7ff\">None</span>, <span style=\"color: #00af00; text-decoration-color: #00af00\">128</span>)      │        <span style=\"color: #00af00; text-decoration-color: #00af00\">25,088</span> │\n",
       "├─────────────────────────────────┼────────────────────────┼───────────────┤\n",
       "│ dropout (<span style=\"color: #0087ff; text-decoration-color: #0087ff\">Dropout</span>)               │ (<span style=\"color: #00d7ff; text-decoration-color: #00d7ff\">None</span>, <span style=\"color: #00d7ff; text-decoration-color: #00d7ff\">None</span>, <span style=\"color: #00af00; text-decoration-color: #00af00\">128</span>)      │             <span style=\"color: #00af00; text-decoration-color: #00af00\">0</span> │\n",
       "├─────────────────────────────────┼────────────────────────┼───────────────┤\n",
       "│ lstm (<span style=\"color: #0087ff; text-decoration-color: #0087ff\">LSTM</span>)                     │ (<span style=\"color: #00d7ff; text-decoration-color: #00d7ff\">None</span>, <span style=\"color: #00d7ff; text-decoration-color: #00d7ff\">None</span>, <span style=\"color: #00af00; text-decoration-color: #00af00\">128</span>)      │       <span style=\"color: #00af00; text-decoration-color: #00af00\">131,584</span> │\n",
       "├─────────────────────────────────┼────────────────────────┼───────────────┤\n",
       "│ time_distributed                │ (<span style=\"color: #00d7ff; text-decoration-color: #00d7ff\">None</span>, <span style=\"color: #00d7ff; text-decoration-color: #00d7ff\">None</span>, <span style=\"color: #00af00; text-decoration-color: #00af00\">128</span>)      │             <span style=\"color: #00af00; text-decoration-color: #00af00\">0</span> │\n",
       "│ (<span style=\"color: #0087ff; text-decoration-color: #0087ff\">TimeDistributed</span>)               │                        │               │\n",
       "├─────────────────────────────────┼────────────────────────┼───────────────┤\n",
       "│ lstm_1 (<span style=\"color: #0087ff; text-decoration-color: #0087ff\">LSTM</span>)                   │ (<span style=\"color: #00d7ff; text-decoration-color: #00d7ff\">None</span>, <span style=\"color: #00d7ff; text-decoration-color: #00d7ff\">None</span>, <span style=\"color: #00af00; text-decoration-color: #00af00\">64</span>)       │        <span style=\"color: #00af00; text-decoration-color: #00af00\">49,408</span> │\n",
       "├─────────────────────────────────┼────────────────────────┼───────────────┤\n",
       "│ time_distributed_1              │ (<span style=\"color: #00d7ff; text-decoration-color: #00d7ff\">None</span>, <span style=\"color: #00d7ff; text-decoration-color: #00d7ff\">None</span>, <span style=\"color: #00af00; text-decoration-color: #00af00\">64</span>)       │             <span style=\"color: #00af00; text-decoration-color: #00af00\">0</span> │\n",
       "│ (<span style=\"color: #0087ff; text-decoration-color: #0087ff\">TimeDistributed</span>)               │                        │               │\n",
       "├─────────────────────────────────┼────────────────────────┼───────────────┤\n",
       "│ time_distributed_2              │ (<span style=\"color: #00d7ff; text-decoration-color: #00d7ff\">None</span>, <span style=\"color: #00d7ff; text-decoration-color: #00d7ff\">None</span>, <span style=\"color: #00af00; text-decoration-color: #00af00\">32</span>)       │         <span style=\"color: #00af00; text-decoration-color: #00af00\">2,080</span> │\n",
       "│ (<span style=\"color: #0087ff; text-decoration-color: #0087ff\">TimeDistributed</span>)               │                        │               │\n",
       "├─────────────────────────────────┼────────────────────────┼───────────────┤\n",
       "│ time_distributed_3              │ (<span style=\"color: #00d7ff; text-decoration-color: #00d7ff\">None</span>, <span style=\"color: #00d7ff; text-decoration-color: #00d7ff\">None</span>, <span style=\"color: #00af00; text-decoration-color: #00af00\">32</span>)       │             <span style=\"color: #00af00; text-decoration-color: #00af00\">0</span> │\n",
       "│ (<span style=\"color: #0087ff; text-decoration-color: #0087ff\">TimeDistributed</span>)               │                        │               │\n",
       "├─────────────────────────────────┼────────────────────────┼───────────────┤\n",
       "│ time_distributed_4              │ (<span style=\"color: #00d7ff; text-decoration-color: #00d7ff\">None</span>, <span style=\"color: #00d7ff; text-decoration-color: #00d7ff\">None</span>, <span style=\"color: #00af00; text-decoration-color: #00af00\">1</span>)        │            <span style=\"color: #00af00; text-decoration-color: #00af00\">33</span> │\n",
       "│ (<span style=\"color: #0087ff; text-decoration-color: #0087ff\">TimeDistributed</span>)               │                        │               │\n",
       "└─────────────────────────────────┴────────────────────────┴───────────────┘\n",
       "</pre>\n"
      ],
      "text/plain": [
       "┏━━━━━━━━━━━━━━━━━━━━━━━━━━━━━━━━━┳━━━━━━━━━━━━━━━━━━━━━━━━┳━━━━━━━━━━━━━━━┓\n",
       "┃\u001b[1m \u001b[0m\u001b[1mLayer (type)                   \u001b[0m\u001b[1m \u001b[0m┃\u001b[1m \u001b[0m\u001b[1mOutput Shape          \u001b[0m\u001b[1m \u001b[0m┃\u001b[1m \u001b[0m\u001b[1m      Param #\u001b[0m\u001b[1m \u001b[0m┃\n",
       "┡━━━━━━━━━━━━━━━━━━━━━━━━━━━━━━━━━╇━━━━━━━━━━━━━━━━━━━━━━━━╇━━━━━━━━━━━━━━━┩\n",
       "│ conv1d (\u001b[38;5;33mConv1D\u001b[0m)                 │ (\u001b[38;5;45mNone\u001b[0m, \u001b[38;5;45mNone\u001b[0m, \u001b[38;5;34m128\u001b[0m)      │        \u001b[38;5;34m25,088\u001b[0m │\n",
       "├─────────────────────────────────┼────────────────────────┼───────────────┤\n",
       "│ dropout (\u001b[38;5;33mDropout\u001b[0m)               │ (\u001b[38;5;45mNone\u001b[0m, \u001b[38;5;45mNone\u001b[0m, \u001b[38;5;34m128\u001b[0m)      │             \u001b[38;5;34m0\u001b[0m │\n",
       "├─────────────────────────────────┼────────────────────────┼───────────────┤\n",
       "│ lstm (\u001b[38;5;33mLSTM\u001b[0m)                     │ (\u001b[38;5;45mNone\u001b[0m, \u001b[38;5;45mNone\u001b[0m, \u001b[38;5;34m128\u001b[0m)      │       \u001b[38;5;34m131,584\u001b[0m │\n",
       "├─────────────────────────────────┼────────────────────────┼───────────────┤\n",
       "│ time_distributed                │ (\u001b[38;5;45mNone\u001b[0m, \u001b[38;5;45mNone\u001b[0m, \u001b[38;5;34m128\u001b[0m)      │             \u001b[38;5;34m0\u001b[0m │\n",
       "│ (\u001b[38;5;33mTimeDistributed\u001b[0m)               │                        │               │\n",
       "├─────────────────────────────────┼────────────────────────┼───────────────┤\n",
       "│ lstm_1 (\u001b[38;5;33mLSTM\u001b[0m)                   │ (\u001b[38;5;45mNone\u001b[0m, \u001b[38;5;45mNone\u001b[0m, \u001b[38;5;34m64\u001b[0m)       │        \u001b[38;5;34m49,408\u001b[0m │\n",
       "├─────────────────────────────────┼────────────────────────┼───────────────┤\n",
       "│ time_distributed_1              │ (\u001b[38;5;45mNone\u001b[0m, \u001b[38;5;45mNone\u001b[0m, \u001b[38;5;34m64\u001b[0m)       │             \u001b[38;5;34m0\u001b[0m │\n",
       "│ (\u001b[38;5;33mTimeDistributed\u001b[0m)               │                        │               │\n",
       "├─────────────────────────────────┼────────────────────────┼───────────────┤\n",
       "│ time_distributed_2              │ (\u001b[38;5;45mNone\u001b[0m, \u001b[38;5;45mNone\u001b[0m, \u001b[38;5;34m32\u001b[0m)       │         \u001b[38;5;34m2,080\u001b[0m │\n",
       "│ (\u001b[38;5;33mTimeDistributed\u001b[0m)               │                        │               │\n",
       "├─────────────────────────────────┼────────────────────────┼───────────────┤\n",
       "│ time_distributed_3              │ (\u001b[38;5;45mNone\u001b[0m, \u001b[38;5;45mNone\u001b[0m, \u001b[38;5;34m32\u001b[0m)       │             \u001b[38;5;34m0\u001b[0m │\n",
       "│ (\u001b[38;5;33mTimeDistributed\u001b[0m)               │                        │               │\n",
       "├─────────────────────────────────┼────────────────────────┼───────────────┤\n",
       "│ time_distributed_4              │ (\u001b[38;5;45mNone\u001b[0m, \u001b[38;5;45mNone\u001b[0m, \u001b[38;5;34m1\u001b[0m)        │            \u001b[38;5;34m33\u001b[0m │\n",
       "│ (\u001b[38;5;33mTimeDistributed\u001b[0m)               │                        │               │\n",
       "└─────────────────────────────────┴────────────────────────┴───────────────┘\n"
      ]
     },
     "metadata": {},
     "output_type": "display_data"
    },
    {
     "data": {
      "text/html": [
       "<pre style=\"white-space:pre;overflow-x:auto;line-height:normal;font-family:Menlo,'DejaVu Sans Mono',consolas,'Courier New',monospace\"><span style=\"font-weight: bold\"> Total params: </span><span style=\"color: #00af00; text-decoration-color: #00af00\">624,581</span> (2.38 MB)\n",
       "</pre>\n"
      ],
      "text/plain": [
       "\u001b[1m Total params: \u001b[0m\u001b[38;5;34m624,581\u001b[0m (2.38 MB)\n"
      ]
     },
     "metadata": {},
     "output_type": "display_data"
    },
    {
     "data": {
      "text/html": [
       "<pre style=\"white-space:pre;overflow-x:auto;line-height:normal;font-family:Menlo,'DejaVu Sans Mono',consolas,'Courier New',monospace\"><span style=\"font-weight: bold\"> Trainable params: </span><span style=\"color: #00af00; text-decoration-color: #00af00\">208,193</span> (813.25 KB)\n",
       "</pre>\n"
      ],
      "text/plain": [
       "\u001b[1m Trainable params: \u001b[0m\u001b[38;5;34m208,193\u001b[0m (813.25 KB)\n"
      ]
     },
     "metadata": {},
     "output_type": "display_data"
    },
    {
     "data": {
      "text/html": [
       "<pre style=\"white-space:pre;overflow-x:auto;line-height:normal;font-family:Menlo,'DejaVu Sans Mono',consolas,'Courier New',monospace\"><span style=\"font-weight: bold\"> Non-trainable params: </span><span style=\"color: #00af00; text-decoration-color: #00af00\">0</span> (0.00 B)\n",
       "</pre>\n"
      ],
      "text/plain": [
       "\u001b[1m Non-trainable params: \u001b[0m\u001b[38;5;34m0\u001b[0m (0.00 B)\n"
      ]
     },
     "metadata": {},
     "output_type": "display_data"
    },
    {
     "data": {
      "text/html": [
       "<pre style=\"white-space:pre;overflow-x:auto;line-height:normal;font-family:Menlo,'DejaVu Sans Mono',consolas,'Courier New',monospace\"><span style=\"font-weight: bold\"> Optimizer params: </span><span style=\"color: #00af00; text-decoration-color: #00af00\">416,388</span> (1.59 MB)\n",
       "</pre>\n"
      ],
      "text/plain": [
       "\u001b[1m Optimizer params: \u001b[0m\u001b[38;5;34m416,388\u001b[0m (1.59 MB)\n"
      ]
     },
     "metadata": {},
     "output_type": "display_data"
    }
   ],
   "source": [
    "import binary_td_cnn\n",
    "import data_utils\n",
    "\n",
    "bin_td_cnn_model = binary_td_cnn.binary_time_domain_CNN_model()\n",
    "\n",
    "if not bin_td_cnn_model.built:\n",
    "    dataset_lambda = lambda x: data_utils.create_binary_sequential_dataset(x)\n",
    "    histories = data_utils.step_training(\n",
    "        train_seq_files,\n",
    "        val_seq_files,\n",
    "        bin_td_cnn_model,\n",
    "        dataset_lambda,\n",
    "        epochs_per_step=3,\n",
    "        training_callbacks=[binary_td_cnn.checkpoint_callback],\n",
    "        n_initial_files = 10,\n",
    "        increment = 0.5\n",
    "        \n",
    "    )\n",
    "    history = {}\n",
    "    for h in histories:\n",
    "        for metric, values in h.items():\n",
    "            if not history[metric]:\n",
    "                history[metric] = values\n",
    "            else:\n",
    "                history[metric].extend[values] \n",
    "    \n",
    "    plot_model_history(history, \"Binary Time Domain CNN\")\n",
    "    #loading best checkpoint\n",
    "    bin_td_cnn_model = binary_td_cnn.binary_time_domain_CNN_model()\n",
    "    \n",
    "    \n",
    "bin_cnn_lstm_model.summary()"
   ]
  },
  {
   "cell_type": "code",
   "execution_count": 8,
   "metadata": {},
   "outputs": [
    {
     "name": "stdout",
     "output_type": "stream",
     "text": [
      "\u001b[1m612/612\u001b[0m \u001b[32m━━━━━━━━━━━━━━━━━━━━\u001b[0m\u001b[37m\u001b[0m \u001b[1m4s\u001b[0m 4ms/step\n",
      "Accuracy: 99.286%\n",
      "Precision: 96.168%\n",
      "Recall: 98.256%\n",
      "F1 : 0.9720\n",
      "Kappa: 0.9679\n"
     ]
    },
    {
     "data": {
      "image/png": "[encoded data removed]",
      "text/plain": [
       "<Figure size 1000x800 with 2 Axes>"
      ]
     },
     "metadata": {},
     "output_type": "display_data"
    }
   ],
   "source": [
    "binary_sequential_test_ds = data_utils.create_binary_sequential_dataset(test_seq_files)\n",
    "features = []\n",
    "labels = []\n",
    "\n",
    "for x, y in binary_sequential_test_ds:\n",
    "    features.append(x)\n",
    "    labels.append(y)\n",
    "\n",
    "features = tf.concat(features, axis=0)\n",
    "labels = tf.concat(labels, axis=0)\n",
    "\n",
    "y_pred = bin_td_cnn_model.predict(features)\n",
    "y_pred = (y_pred > 0.5).astype(int).flatten()\n",
    "y_true = labels.numpy().flatten()\n",
    "    \n",
    "bin_td_cnn_metrics = score_and_confusion_matrix(y_pred, y_true, \"Binary Time Domain CNN\")\n"
   ]
  },
  {
   "cell_type": "code",
   "execution_count": 9,
   "metadata": {},
   "outputs": [
    {
     "name": "stdout",
     "output_type": "stream",
     "text": [
      "Model loaded from saved_models/binary_cnn_gru_lite.keras\n"
     ]
    },
    {
     "data": {
      "text/html": [
       "<pre style=\"white-space:pre;overflow-x:auto;line-height:normal;font-family:Menlo,'DejaVu Sans Mono',consolas,'Courier New',monospace\"><span style=\"font-weight: bold\">Model: \"sequential\"</span>\n",
       "</pre>\n"
      ],
      "text/plain": [
       "\u001b[1mModel: \"sequential\"\u001b[0m\n"
      ]
     },
     "metadata": {},
     "output_type": "display_data"
    },
    {
     "data": {
      "text/html": [
       "<pre style=\"white-space:pre;overflow-x:auto;line-height:normal;font-family:Menlo,'DejaVu Sans Mono',consolas,'Courier New',monospace\">┏━━━━━━━━━━━━━━━━━━━━━━━━━━━━━━━━━┳━━━━━━━━━━━━━━━━━━━━━━━━┳━━━━━━━━━━━━━━━┓\n",
       "┃<span style=\"font-weight: bold\"> Layer (type)                    </span>┃<span style=\"font-weight: bold\"> Output Shape           </span>┃<span style=\"font-weight: bold\">       Param # </span>┃\n",
       "┡━━━━━━━━━━━━━━━━━━━━━━━━━━━━━━━━━╇━━━━━━━━━━━━━━━━━━━━━━━━╇━━━━━━━━━━━━━━━┩\n",
       "│ conv1d (<span style=\"color: #0087ff; text-decoration-color: #0087ff\">Conv1D</span>)                 │ (<span style=\"color: #00d7ff; text-decoration-color: #00d7ff\">None</span>, <span style=\"color: #00d7ff; text-decoration-color: #00d7ff\">None</span>, <span style=\"color: #00af00; text-decoration-color: #00af00\">40</span>)       │         <span style=\"color: #00af00; text-decoration-color: #00af00\">1,600</span> │\n",
       "├─────────────────────────────────┼────────────────────────┼───────────────┤\n",
       "│ dropout (<span style=\"color: #0087ff; text-decoration-color: #0087ff\">Dropout</span>)               │ (<span style=\"color: #00d7ff; text-decoration-color: #00d7ff\">None</span>, <span style=\"color: #00d7ff; text-decoration-color: #00d7ff\">None</span>, <span style=\"color: #00af00; text-decoration-color: #00af00\">40</span>)       │             <span style=\"color: #00af00; text-decoration-color: #00af00\">0</span> │\n",
       "├─────────────────────────────────┼────────────────────────┼───────────────┤\n",
       "│ gru (<span style=\"color: #0087ff; text-decoration-color: #0087ff\">GRU</span>)                       │ (<span style=\"color: #00d7ff; text-decoration-color: #00d7ff\">None</span>, <span style=\"color: #00d7ff; text-decoration-color: #00d7ff\">None</span>, <span style=\"color: #00af00; text-decoration-color: #00af00\">32</span>)       │         <span style=\"color: #00af00; text-decoration-color: #00af00\">7,104</span> │\n",
       "├─────────────────────────────────┼────────────────────────┼───────────────┤\n",
       "│ dropout_1 (<span style=\"color: #0087ff; text-decoration-color: #0087ff\">Dropout</span>)             │ (<span style=\"color: #00d7ff; text-decoration-color: #00d7ff\">None</span>, <span style=\"color: #00d7ff; text-decoration-color: #00d7ff\">None</span>, <span style=\"color: #00af00; text-decoration-color: #00af00\">32</span>)       │             <span style=\"color: #00af00; text-decoration-color: #00af00\">0</span> │\n",
       "├─────────────────────────────────┼────────────────────────┼───────────────┤\n",
       "│ time_distributed                │ (<span style=\"color: #00d7ff; text-decoration-color: #00d7ff\">None</span>, <span style=\"color: #00d7ff; text-decoration-color: #00d7ff\">None</span>, <span style=\"color: #00af00; text-decoration-color: #00af00\">1</span>)        │            <span style=\"color: #00af00; text-decoration-color: #00af00\">33</span> │\n",
       "│ (<span style=\"color: #0087ff; text-decoration-color: #0087ff\">TimeDistributed</span>)               │                        │               │\n",
       "└─────────────────────────────────┴────────────────────────┴───────────────┘\n",
       "</pre>\n"
      ],
      "text/plain": [
       "┏━━━━━━━━━━━━━━━━━━━━━━━━━━━━━━━━━┳━━━━━━━━━━━━━━━━━━━━━━━━┳━━━━━━━━━━━━━━━┓\n",
       "┃\u001b[1m \u001b[0m\u001b[1mLayer (type)                   \u001b[0m\u001b[1m \u001b[0m┃\u001b[1m \u001b[0m\u001b[1mOutput Shape          \u001b[0m\u001b[1m \u001b[0m┃\u001b[1m \u001b[0m\u001b[1m      Param #\u001b[0m\u001b[1m \u001b[0m┃\n",
       "┡━━━━━━━━━━━━━━━━━━━━━━━━━━━━━━━━━╇━━━━━━━━━━━━━━━━━━━━━━━━╇━━━━━━━━━━━━━━━┩\n",
       "│ conv1d (\u001b[38;5;33mConv1D\u001b[0m)                 │ (\u001b[38;5;45mNone\u001b[0m, \u001b[38;5;45mNone\u001b[0m, \u001b[38;5;34m40\u001b[0m)       │         \u001b[38;5;34m1,600\u001b[0m │\n",
       "├─────────────────────────────────┼────────────────────────┼───────────────┤\n",
       "│ dropout (\u001b[38;5;33mDropout\u001b[0m)               │ (\u001b[38;5;45mNone\u001b[0m, \u001b[38;5;45mNone\u001b[0m, \u001b[38;5;34m40\u001b[0m)       │             \u001b[38;5;34m0\u001b[0m │\n",
       "├─────────────────────────────────┼────────────────────────┼───────────────┤\n",
       "│ gru (\u001b[38;5;33mGRU\u001b[0m)                       │ (\u001b[38;5;45mNone\u001b[0m, \u001b[38;5;45mNone\u001b[0m, \u001b[38;5;34m32\u001b[0m)       │         \u001b[38;5;34m7,104\u001b[0m │\n",
       "├─────────────────────────────────┼────────────────────────┼───────────────┤\n",
       "│ dropout_1 (\u001b[38;5;33mDropout\u001b[0m)             │ (\u001b[38;5;45mNone\u001b[0m, \u001b[38;5;45mNone\u001b[0m, \u001b[38;5;34m32\u001b[0m)       │             \u001b[38;5;34m0\u001b[0m │\n",
       "├─────────────────────────────────┼────────────────────────┼───────────────┤\n",
       "│ time_distributed                │ (\u001b[38;5;45mNone\u001b[0m, \u001b[38;5;45mNone\u001b[0m, \u001b[38;5;34m1\u001b[0m)        │            \u001b[38;5;34m33\u001b[0m │\n",
       "│ (\u001b[38;5;33mTimeDistributed\u001b[0m)               │                        │               │\n",
       "└─────────────────────────────────┴────────────────────────┴───────────────┘\n"
      ]
     },
     "metadata": {},
     "output_type": "display_data"
    },
    {
     "data": {
      "text/html": [
       "<pre style=\"white-space:pre;overflow-x:auto;line-height:normal;font-family:Menlo,'DejaVu Sans Mono',consolas,'Courier New',monospace\"><span style=\"font-weight: bold\"> Total params: </span><span style=\"color: #00af00; text-decoration-color: #00af00\">26,213</span> (102.40 KB)\n",
       "</pre>\n"
      ],
      "text/plain": [
       "\u001b[1m Total params: \u001b[0m\u001b[38;5;34m26,213\u001b[0m (102.40 KB)\n"
      ]
     },
     "metadata": {},
     "output_type": "display_data"
    },
    {
     "data": {
      "text/html": [
       "<pre style=\"white-space:pre;overflow-x:auto;line-height:normal;font-family:Menlo,'DejaVu Sans Mono',consolas,'Courier New',monospace\"><span style=\"font-weight: bold\"> Trainable params: </span><span style=\"color: #00af00; text-decoration-color: #00af00\">8,737</span> (34.13 KB)\n",
       "</pre>\n"
      ],
      "text/plain": [
       "\u001b[1m Trainable params: \u001b[0m\u001b[38;5;34m8,737\u001b[0m (34.13 KB)\n"
      ]
     },
     "metadata": {},
     "output_type": "display_data"
    },
    {
     "data": {
      "text/html": [
       "<pre style=\"white-space:pre;overflow-x:auto;line-height:normal;font-family:Menlo,'DejaVu Sans Mono',consolas,'Courier New',monospace\"><span style=\"font-weight: bold\"> Non-trainable params: </span><span style=\"color: #00af00; text-decoration-color: #00af00\">0</span> (0.00 B)\n",
       "</pre>\n"
      ],
      "text/plain": [
       "\u001b[1m Non-trainable params: \u001b[0m\u001b[38;5;34m0\u001b[0m (0.00 B)\n"
      ]
     },
     "metadata": {},
     "output_type": "display_data"
    },
    {
     "data": {
      "text/html": [
       "<pre style=\"white-space:pre;overflow-x:auto;line-height:normal;font-family:Menlo,'DejaVu Sans Mono',consolas,'Courier New',monospace\"><span style=\"font-weight: bold\"> Optimizer params: </span><span style=\"color: #00af00; text-decoration-color: #00af00\">17,476</span> (68.27 KB)\n",
       "</pre>\n"
      ],
      "text/plain": [
       "\u001b[1m Optimizer params: \u001b[0m\u001b[38;5;34m17,476\u001b[0m (68.27 KB)\n"
      ]
     },
     "metadata": {},
     "output_type": "display_data"
    }
   ],
   "source": [
    "import binary_cnn_gru_lite\n",
    "import data_utils\n",
    "\n",
    "bin_cnn_gru_model = binary_cnn_gru_lite.binary_CNN_GRU_lite_model()\n",
    "\n",
    "if not bin_cnn_gru_model.built:\n",
    "    dataset_lambda = lambda x: data_utils.create_binary_sequential_dataset(x)\n",
    "    histories = data_utils.step_training(\n",
    "        train_seq_files,\n",
    "        val_seq_files,\n",
    "        bin_td_cnn_model,\n",
    "        dataset_lambda,\n",
    "        epochs_per_step=3,\n",
    "        training_callbacks=[bin_cnn_gru_model.checkpoint_callback],\n",
    "        n_initial_files = 10,\n",
    "        increment = 0.5\n",
    "        \n",
    "    )\n",
    "    history = {}\n",
    "    for h in histories:\n",
    "        for metric, values in h.items():\n",
    "            if not history[metric]:\n",
    "                history[metric] = values\n",
    "            else:\n",
    "                history[metric].extend[values] \n",
    "    \n",
    "    plot_model_history(history, \"Binary CNN\")\n",
    "    #loading best checkpoint\n",
    "    bin_cnn_gru_model = binary_cnn_gru_lite.binary_CNN_GRU_lite_model()\n",
    "    \n",
    "    \n",
    "bin_cnn_gru_model.summary()"
   ]
  },
  {
   "cell_type": "code",
   "execution_count": 10,
   "metadata": {},
   "outputs": [
    {
     "name": "stdout",
     "output_type": "stream",
     "text": [
      "\u001b[1m612/612\u001b[0m \u001b[32m━━━━━━━━━━━━━━━━━━━━\u001b[0m\u001b[37m\u001b[0m \u001b[1m3s\u001b[0m 4ms/step\n",
      "Accuracy: 99.415%\n",
      "Precision: 95.922%\n",
      "Recall: 99.591%\n",
      "F1 : 0.9772\n",
      "Kappa: 0.9739\n"
     ]
    },
    {
     "data": {
      "image/png": "[encoded data removed]",
      "text/plain": [
       "<Figure size 1000x800 with 2 Axes>"
      ]
     },
     "metadata": {},
     "output_type": "display_data"
    }
   ],
   "source": [
    "binary_sequential_test_ds = data_utils.create_binary_sequential_dataset(test_seq_files)\n",
    "features = []\n",
    "labels = []\n",
    "\n",
    "for x, y in binary_sequential_test_ds:\n",
    "    features.append(x)\n",
    "    labels.append(y)\n",
    "\n",
    "features = tf.concat(features, axis=0)\n",
    "labels = tf.concat(labels, axis=0)\n",
    "\n",
    "y_pred = bin_cnn_gru_model.predict(features)\n",
    "y_pred = (y_pred > 0.5).astype(int).flatten()\n",
    "y_true = labels.numpy().flatten()\n",
    "    \n",
    "bin_cnn_gru_metrics = score_and_confusion_matrix(y_pred, y_true, \"Binary CNN-GRU\")\n"
   ]
  },
  {
   "cell_type": "code",
   "execution_count": 11,
   "metadata": {},
   "outputs": [
    {
     "name": "stdout",
     "output_type": "stream",
     "text": [
      "Model loaded from saved_models/binary_cnn1d.keras\n"
     ]
    },
    {
     "data": {
      "text/html": [
       "<pre style=\"white-space:pre;overflow-x:auto;line-height:normal;font-family:Menlo,'DejaVu Sans Mono',consolas,'Courier New',monospace\"><span style=\"font-weight: bold\">Model: \"sequential_1\"</span>\n",
       "</pre>\n"
      ],
      "text/plain": [
       "\u001b[1mModel: \"sequential_1\"\u001b[0m\n"
      ]
     },
     "metadata": {},
     "output_type": "display_data"
    },
    {
     "data": {
      "text/html": [
       "<pre style=\"white-space:pre;overflow-x:auto;line-height:normal;font-family:Menlo,'DejaVu Sans Mono',consolas,'Courier New',monospace\">┏━━━━━━━━━━━━━━━━━━━━━━━━━━━━━━━━━┳━━━━━━━━━━━━━━━━━━━━━━━━┳━━━━━━━━━━━━━━━┓\n",
       "┃<span style=\"font-weight: bold\"> Layer (type)                    </span>┃<span style=\"font-weight: bold\"> Output Shape           </span>┃<span style=\"font-weight: bold\">       Param # </span>┃\n",
       "┡━━━━━━━━━━━━━━━━━━━━━━━━━━━━━━━━━╇━━━━━━━━━━━━━━━━━━━━━━━━╇━━━━━━━━━━━━━━━┩\n",
       "│ dense_2 (<span style=\"color: #0087ff; text-decoration-color: #0087ff\">Dense</span>)                 │ (<span style=\"color: #00d7ff; text-decoration-color: #00d7ff\">None</span>, <span style=\"color: #00af00; text-decoration-color: #00af00\">30</span>)             │         <span style=\"color: #00af00; text-decoration-color: #00af00\">1,200</span> │\n",
       "├─────────────────────────────────┼────────────────────────┼───────────────┤\n",
       "│ batch_normalization             │ (<span style=\"color: #00d7ff; text-decoration-color: #00d7ff\">None</span>, <span style=\"color: #00af00; text-decoration-color: #00af00\">30</span>)             │           <span style=\"color: #00af00; text-decoration-color: #00af00\">120</span> │\n",
       "│ (<span style=\"color: #0087ff; text-decoration-color: #0087ff\">BatchNormalization</span>)            │                        │               │\n",
       "├─────────────────────────────────┼────────────────────────┼───────────────┤\n",
       "│ dropout_4 (<span style=\"color: #0087ff; text-decoration-color: #0087ff\">Dropout</span>)             │ (<span style=\"color: #00d7ff; text-decoration-color: #00d7ff\">None</span>, <span style=\"color: #00af00; text-decoration-color: #00af00\">30</span>)             │             <span style=\"color: #00af00; text-decoration-color: #00af00\">0</span> │\n",
       "├─────────────────────────────────┼────────────────────────┼───────────────┤\n",
       "│ dense_3 (<span style=\"color: #0087ff; text-decoration-color: #0087ff\">Dense</span>)                 │ (<span style=\"color: #00d7ff; text-decoration-color: #00d7ff\">None</span>, <span style=\"color: #00af00; text-decoration-color: #00af00\">20</span>)             │           <span style=\"color: #00af00; text-decoration-color: #00af00\">620</span> │\n",
       "├─────────────────────────────────┼────────────────────────┼───────────────┤\n",
       "│ batch_normalization_1           │ (<span style=\"color: #00d7ff; text-decoration-color: #00d7ff\">None</span>, <span style=\"color: #00af00; text-decoration-color: #00af00\">20</span>)             │            <span style=\"color: #00af00; text-decoration-color: #00af00\">80</span> │\n",
       "│ (<span style=\"color: #0087ff; text-decoration-color: #0087ff\">BatchNormalization</span>)            │                        │               │\n",
       "├─────────────────────────────────┼────────────────────────┼───────────────┤\n",
       "│ dropout_5 (<span style=\"color: #0087ff; text-decoration-color: #0087ff\">Dropout</span>)             │ (<span style=\"color: #00d7ff; text-decoration-color: #00d7ff\">None</span>, <span style=\"color: #00af00; text-decoration-color: #00af00\">20</span>)             │             <span style=\"color: #00af00; text-decoration-color: #00af00\">0</span> │\n",
       "├─────────────────────────────────┼────────────────────────┼───────────────┤\n",
       "│ dense_4 (<span style=\"color: #0087ff; text-decoration-color: #0087ff\">Dense</span>)                 │ (<span style=\"color: #00d7ff; text-decoration-color: #00d7ff\">None</span>, <span style=\"color: #00af00; text-decoration-color: #00af00\">16</span>)             │           <span style=\"color: #00af00; text-decoration-color: #00af00\">336</span> │\n",
       "├─────────────────────────────────┼────────────────────────┼───────────────┤\n",
       "│ batch_normalization_2           │ (<span style=\"color: #00d7ff; text-decoration-color: #00d7ff\">None</span>, <span style=\"color: #00af00; text-decoration-color: #00af00\">16</span>)             │            <span style=\"color: #00af00; text-decoration-color: #00af00\">64</span> │\n",
       "│ (<span style=\"color: #0087ff; text-decoration-color: #0087ff\">BatchNormalization</span>)            │                        │               │\n",
       "├─────────────────────────────────┼────────────────────────┼───────────────┤\n",
       "│ dropout_6 (<span style=\"color: #0087ff; text-decoration-color: #0087ff\">Dropout</span>)             │ (<span style=\"color: #00d7ff; text-decoration-color: #00d7ff\">None</span>, <span style=\"color: #00af00; text-decoration-color: #00af00\">16</span>)             │             <span style=\"color: #00af00; text-decoration-color: #00af00\">0</span> │\n",
       "├─────────────────────────────────┼────────────────────────┼───────────────┤\n",
       "│ dense_5 (<span style=\"color: #0087ff; text-decoration-color: #0087ff\">Dense</span>)                 │ (<span style=\"color: #00d7ff; text-decoration-color: #00d7ff\">None</span>, <span style=\"color: #00af00; text-decoration-color: #00af00\">12</span>)             │           <span style=\"color: #00af00; text-decoration-color: #00af00\">204</span> │\n",
       "├─────────────────────────────────┼────────────────────────┼───────────────┤\n",
       "│ batch_normalization_3           │ (<span style=\"color: #00d7ff; text-decoration-color: #00d7ff\">None</span>, <span style=\"color: #00af00; text-decoration-color: #00af00\">12</span>)             │            <span style=\"color: #00af00; text-decoration-color: #00af00\">48</span> │\n",
       "│ (<span style=\"color: #0087ff; text-decoration-color: #0087ff\">BatchNormalization</span>)            │                        │               │\n",
       "├─────────────────────────────────┼────────────────────────┼───────────────┤\n",
       "│ dropout_7 (<span style=\"color: #0087ff; text-decoration-color: #0087ff\">Dropout</span>)             │ (<span style=\"color: #00d7ff; text-decoration-color: #00d7ff\">None</span>, <span style=\"color: #00af00; text-decoration-color: #00af00\">12</span>)             │             <span style=\"color: #00af00; text-decoration-color: #00af00\">0</span> │\n",
       "├─────────────────────────────────┼────────────────────────┼───────────────┤\n",
       "│ dense_6 (<span style=\"color: #0087ff; text-decoration-color: #0087ff\">Dense</span>)                 │ (<span style=\"color: #00d7ff; text-decoration-color: #00d7ff\">None</span>, <span style=\"color: #00af00; text-decoration-color: #00af00\">6</span>)              │            <span style=\"color: #00af00; text-decoration-color: #00af00\">78</span> │\n",
       "├─────────────────────────────────┼────────────────────────┼───────────────┤\n",
       "│ batch_normalization_4           │ (<span style=\"color: #00d7ff; text-decoration-color: #00d7ff\">None</span>, <span style=\"color: #00af00; text-decoration-color: #00af00\">6</span>)              │            <span style=\"color: #00af00; text-decoration-color: #00af00\">24</span> │\n",
       "│ (<span style=\"color: #0087ff; text-decoration-color: #0087ff\">BatchNormalization</span>)            │                        │               │\n",
       "├─────────────────────────────────┼────────────────────────┼───────────────┤\n",
       "│ dropout_8 (<span style=\"color: #0087ff; text-decoration-color: #0087ff\">Dropout</span>)             │ (<span style=\"color: #00d7ff; text-decoration-color: #00d7ff\">None</span>, <span style=\"color: #00af00; text-decoration-color: #00af00\">6</span>)              │             <span style=\"color: #00af00; text-decoration-color: #00af00\">0</span> │\n",
       "├─────────────────────────────────┼────────────────────────┼───────────────┤\n",
       "│ dense_7 (<span style=\"color: #0087ff; text-decoration-color: #0087ff\">Dense</span>)                 │ (<span style=\"color: #00d7ff; text-decoration-color: #00d7ff\">None</span>, <span style=\"color: #00af00; text-decoration-color: #00af00\">1</span>)              │             <span style=\"color: #00af00; text-decoration-color: #00af00\">7</span> │\n",
       "└─────────────────────────────────┴────────────────────────┴───────────────┘\n",
       "</pre>\n"
      ],
      "text/plain": [
       "┏━━━━━━━━━━━━━━━━━━━━━━━━━━━━━━━━━┳━━━━━━━━━━━━━━━━━━━━━━━━┳━━━━━━━━━━━━━━━┓\n",
       "┃\u001b[1m \u001b[0m\u001b[1mLayer (type)                   \u001b[0m\u001b[1m \u001b[0m┃\u001b[1m \u001b[0m\u001b[1mOutput Shape          \u001b[0m\u001b[1m \u001b[0m┃\u001b[1m \u001b[0m\u001b[1m      Param #\u001b[0m\u001b[1m \u001b[0m┃\n",
       "┡━━━━━━━━━━━━━━━━━━━━━━━━━━━━━━━━━╇━━━━━━━━━━━━━━━━━━━━━━━━╇━━━━━━━━━━━━━━━┩\n",
       "│ dense_2 (\u001b[38;5;33mDense\u001b[0m)                 │ (\u001b[38;5;45mNone\u001b[0m, \u001b[38;5;34m30\u001b[0m)             │         \u001b[38;5;34m1,200\u001b[0m │\n",
       "├─────────────────────────────────┼────────────────────────┼───────────────┤\n",
       "│ batch_normalization             │ (\u001b[38;5;45mNone\u001b[0m, \u001b[38;5;34m30\u001b[0m)             │           \u001b[38;5;34m120\u001b[0m │\n",
       "│ (\u001b[38;5;33mBatchNormalization\u001b[0m)            │                        │               │\n",
       "├─────────────────────────────────┼────────────────────────┼───────────────┤\n",
       "│ dropout_4 (\u001b[38;5;33mDropout\u001b[0m)             │ (\u001b[38;5;45mNone\u001b[0m, \u001b[38;5;34m30\u001b[0m)             │             \u001b[38;5;34m0\u001b[0m │\n",
       "├─────────────────────────────────┼────────────────────────┼───────────────┤\n",
       "│ dense_3 (\u001b[38;5;33mDense\u001b[0m)                 │ (\u001b[38;5;45mNone\u001b[0m, \u001b[38;5;34m20\u001b[0m)             │           \u001b[38;5;34m620\u001b[0m │\n",
       "├─────────────────────────────────┼────────────────────────┼───────────────┤\n",
       "│ batch_normalization_1           │ (\u001b[38;5;45mNone\u001b[0m, \u001b[38;5;34m20\u001b[0m)             │            \u001b[38;5;34m80\u001b[0m │\n",
       "│ (\u001b[38;5;33mBatchNormalization\u001b[0m)            │                        │               │\n",
       "├─────────────────────────────────┼────────────────────────┼───────────────┤\n",
       "│ dropout_5 (\u001b[38;5;33mDropout\u001b[0m)             │ (\u001b[38;5;45mNone\u001b[0m, \u001b[38;5;34m20\u001b[0m)             │             \u001b[38;5;34m0\u001b[0m │\n",
       "├─────────────────────────────────┼────────────────────────┼───────────────┤\n",
       "│ dense_4 (\u001b[38;5;33mDense\u001b[0m)                 │ (\u001b[38;5;45mNone\u001b[0m, \u001b[38;5;34m16\u001b[0m)             │           \u001b[38;5;34m336\u001b[0m │\n",
       "├─────────────────────────────────┼────────────────────────┼───────────────┤\n",
       "│ batch_normalization_2           │ (\u001b[38;5;45mNone\u001b[0m, \u001b[38;5;34m16\u001b[0m)             │            \u001b[38;5;34m64\u001b[0m │\n",
       "│ (\u001b[38;5;33mBatchNormalization\u001b[0m)            │                        │               │\n",
       "├─────────────────────────────────┼────────────────────────┼───────────────┤\n",
       "│ dropout_6 (\u001b[38;5;33mDropout\u001b[0m)             │ (\u001b[38;5;45mNone\u001b[0m, \u001b[38;5;34m16\u001b[0m)             │             \u001b[38;5;34m0\u001b[0m │\n",
       "├─────────────────────────────────┼────────────────────────┼───────────────┤\n",
       "│ dense_5 (\u001b[38;5;33mDense\u001b[0m)                 │ (\u001b[38;5;45mNone\u001b[0m, \u001b[38;5;34m12\u001b[0m)             │           \u001b[38;5;34m204\u001b[0m │\n",
       "├─────────────────────────────────┼────────────────────────┼───────────────┤\n",
       "│ batch_normalization_3           │ (\u001b[38;5;45mNone\u001b[0m, \u001b[38;5;34m12\u001b[0m)             │            \u001b[38;5;34m48\u001b[0m │\n",
       "│ (\u001b[38;5;33mBatchNormalization\u001b[0m)            │                        │               │\n",
       "├─────────────────────────────────┼────────────────────────┼───────────────┤\n",
       "│ dropout_7 (\u001b[38;5;33mDropout\u001b[0m)             │ (\u001b[38;5;45mNone\u001b[0m, \u001b[38;5;34m12\u001b[0m)             │             \u001b[38;5;34m0\u001b[0m │\n",
       "├─────────────────────────────────┼────────────────────────┼───────────────┤\n",
       "│ dense_6 (\u001b[38;5;33mDense\u001b[0m)                 │ (\u001b[38;5;45mNone\u001b[0m, \u001b[38;5;34m6\u001b[0m)              │            \u001b[38;5;34m78\u001b[0m │\n",
       "├─────────────────────────────────┼────────────────────────┼───────────────┤\n",
       "│ batch_normalization_4           │ (\u001b[38;5;45mNone\u001b[0m, \u001b[38;5;34m6\u001b[0m)              │            \u001b[38;5;34m24\u001b[0m │\n",
       "│ (\u001b[38;5;33mBatchNormalization\u001b[0m)            │                        │               │\n",
       "├─────────────────────────────────┼────────────────────────┼───────────────┤\n",
       "│ dropout_8 (\u001b[38;5;33mDropout\u001b[0m)             │ (\u001b[38;5;45mNone\u001b[0m, \u001b[38;5;34m6\u001b[0m)              │             \u001b[38;5;34m0\u001b[0m │\n",
       "├─────────────────────────────────┼────────────────────────┼───────────────┤\n",
       "│ dense_7 (\u001b[38;5;33mDense\u001b[0m)                 │ (\u001b[38;5;45mNone\u001b[0m, \u001b[38;5;34m1\u001b[0m)              │             \u001b[38;5;34m7\u001b[0m │\n",
       "└─────────────────────────────────┴────────────────────────┴───────────────┘\n"
      ]
     },
     "metadata": {},
     "output_type": "display_data"
    },
    {
     "data": {
      "text/html": [
       "<pre style=\"white-space:pre;overflow-x:auto;line-height:normal;font-family:Menlo,'DejaVu Sans Mono',consolas,'Courier New',monospace\"><span style=\"font-weight: bold\"> Total params: </span><span style=\"color: #00af00; text-decoration-color: #00af00\">5,396</span> (21.08 KB)\n",
       "</pre>\n"
      ],
      "text/plain": [
       "\u001b[1m Total params: \u001b[0m\u001b[38;5;34m5,396\u001b[0m (21.08 KB)\n"
      ]
     },
     "metadata": {},
     "output_type": "display_data"
    },
    {
     "data": {
      "text/html": [
       "<pre style=\"white-space:pre;overflow-x:auto;line-height:normal;font-family:Menlo,'DejaVu Sans Mono',consolas,'Courier New',monospace\"><span style=\"font-weight: bold\"> Trainable params: </span><span style=\"color: #00af00; text-decoration-color: #00af00\">2,613</span> (10.21 KB)\n",
       "</pre>\n"
      ],
      "text/plain": [
       "\u001b[1m Trainable params: \u001b[0m\u001b[38;5;34m2,613\u001b[0m (10.21 KB)\n"
      ]
     },
     "metadata": {},
     "output_type": "display_data"
    },
    {
     "data": {
      "text/html": [
       "<pre style=\"white-space:pre;overflow-x:auto;line-height:normal;font-family:Menlo,'DejaVu Sans Mono',consolas,'Courier New',monospace\"><span style=\"font-weight: bold\"> Non-trainable params: </span><span style=\"color: #00af00; text-decoration-color: #00af00\">168</span> (672.00 B)\n",
       "</pre>\n"
      ],
      "text/plain": [
       "\u001b[1m Non-trainable params: \u001b[0m\u001b[38;5;34m168\u001b[0m (672.00 B)\n"
      ]
     },
     "metadata": {},
     "output_type": "display_data"
    },
    {
     "data": {
      "text/html": [
       "<pre style=\"white-space:pre;overflow-x:auto;line-height:normal;font-family:Menlo,'DejaVu Sans Mono',consolas,'Courier New',monospace\"><span style=\"font-weight: bold\"> Optimizer params: </span><span style=\"color: #00af00; text-decoration-color: #00af00\">2,615</span> (10.22 KB)\n",
       "</pre>\n"
      ],
      "text/plain": [
       "\u001b[1m Optimizer params: \u001b[0m\u001b[38;5;34m2,615\u001b[0m (10.22 KB)\n"
      ]
     },
     "metadata": {},
     "output_type": "display_data"
    }
   ],
   "source": [
    "import binary_cnn1d\n",
    "import data_utils\n",
    "\n",
    "bin_cnn1d_model = binary_cnn1d.binary_CNN1D_model()\n",
    "\n",
    "if not bin_cnn1d_model.built:\n",
    "    bin_bal_train_ds = data_utils.create_binary_dataset(train_bal_files)\n",
    "    bin_bal_val_ds = data_utils.create_binary_dataset(val_bal_files)\n",
    "    history = bin_cnn1d_model.fit(\n",
    "            bin_bal_train_ds,\n",
    "            validation_data = bin_bal_val_ds,\n",
    "            epochs=30,\n",
    "            callbacks = [binary_cnn1d.checkpoint_callback],\n",
    "        )\n",
    "    \n",
    "    plot_model_history(history.history, 'Binary 1D-CNN')\n",
    "\n",
    "bin_cnn1d_model.summary()\n",
    "\n",
    "\n"
   ]
  },
  {
   "cell_type": "code",
   "execution_count": 12,
   "metadata": {},
   "outputs": [
    {
     "name": "stderr",
     "output_type": "stream",
     "text": [
      "WARNING: All log messages before absl::InitializeLog() is called are written to STDERR\n",
      "I0000 00:00:1732560138.996501  158198 service.cc:148] XLA service 0x55cce1c1c880 initialized for platform CUDA (this does not guarantee that XLA will be used). Devices:\n",
      "I0000 00:00:1732560138.996522  158198 service.cc:156]   StreamExecutor device (0): NVIDIA GeForce GTX 1060 6GB, Compute Capability 6.1\n"
     ]
    },
    {
     "name": "stdout",
     "output_type": "stream",
     "text": [
      "\u001b[1m   87/19578\u001b[0m \u001b[37m━━━━━━━━━━━━━━━━━━━━\u001b[0m \u001b[1m34s\u001b[0m 2ms/step    "
     ]
    },
    {
     "name": "stderr",
     "output_type": "stream",
     "text": [
      "I0000 00:00:1732560139.405431  158198 device_compiler.h:188] Compiled cluster using XLA!  This line is logged at most once for the lifetime of the process.\n"
     ]
    },
    {
     "name": "stdout",
     "output_type": "stream",
     "text": [
      "\u001b[1m19578/19578\u001b[0m \u001b[32m━━━━━━━━━━━━━━━━━━━━\u001b[0m\u001b[37m\u001b[0m \u001b[1m33s\u001b[0m 2ms/step\n",
      "Accuracy: 99.615%\n",
      "Precision: 97.194%\n",
      "Recall: 99.829%\n",
      "F1 : 0.9849\n",
      "Kappa: 0.9827\n"
     ]
    },
    {
     "data": {
      "image/png": "[encoded data removed]",
      "text/plain": [
       "<Figure size 1000x800 with 2 Axes>"
      ]
     },
     "metadata": {},
     "output_type": "display_data"
    }
   ],
   "source": [
    "binary_bal_test_ds = data_utils.create_binary_sequential_dataset(test_seq_files, batch=False)\n",
    "features = []\n",
    "labels = []\n",
    "\n",
    "for x, y in binary_bal_test_ds:\n",
    "    features.append(x)\n",
    "    labels.append(y)\n",
    "\n",
    "features = tf.concat(features, axis=0)\n",
    "labels = tf.concat(labels, axis=0)\n",
    "\n",
    "y_pred = bin_cnn1d_model.predict(features)\n",
    "y_pred = (y_pred > 0.5).astype(int).flatten()\n",
    "y_true = labels.numpy().flatten()\n",
    "    \n",
    "bin_cnn1d_metrics = score_and_confusion_matrix(y_pred, y_true, 'Binary 1D-CNN')\n"
   ]
  },
  {
   "cell_type": "code",
   "execution_count": 13,
   "metadata": {},
   "outputs": [
    {
     "name": "stdout",
     "output_type": "stream",
     "text": [
      "Model loaded from saved_models/binary_dnn.keras\n"
     ]
    }
   ],
   "source": [
    "import binary_dnn\n",
    "import data_utils\n",
    "\n",
    "bin_dnn_model = binary_dnn.binary_DNN_model()\n",
    "\n",
    "if not bin_dnn_model.built:\n",
    "    bin_bal_train_ds = data_utils.create_binary_dataset(train_bal_files)\n",
    "    bin_bal_val_ds = data_utils.create_binary_dataset(val_bal_files)\n",
    "    history = bin_dnn_model.fit(\n",
    "            bin_bal_train_ds,\n",
    "            validation_data = bin_bal_val_ds,\n",
    "            epochs=30,\n",
    "            callbacks = [binary_cnn1d.checkpoint_callback],\n",
    "        )\n",
    "    bin_dnn_model.summary()\n",
    "    plot_model_history(history.history, 'Binary MLP')\n",
    "\n",
    "     "
   ]
  },
  {
   "cell_type": "code",
   "execution_count": 14,
   "metadata": {},
   "outputs": [
    {
     "name": "stdout",
     "output_type": "stream",
     "text": [
      "\u001b[1m19578/19578\u001b[0m \u001b[32m━━━━━━━━━━━━━━━━━━━━\u001b[0m\u001b[37m\u001b[0m \u001b[1m34s\u001b[0m 2ms/step\n",
      "Accuracy: 99.583%\n",
      "Precision: 96.917%\n",
      "Recall: 99.871%\n",
      "F1 : 0.9837\n",
      "Kappa: 0.9813\n"
     ]
    },
    {
     "data": {
      "image/png": "[encoded data removed]",
      "text/plain": [
       "<Figure size 1000x800 with 2 Axes>"
      ]
     },
     "metadata": {},
     "output_type": "display_data"
    }
   ],
   "source": [
    "binary_bal_test_ds = data_utils.create_binary_sequential_dataset(test_seq_files, batch=False)\n",
    "features = []\n",
    "labels = []\n",
    "\n",
    "for x, y in binary_bal_test_ds:\n",
    "    features.append(x)\n",
    "    labels.append(y)\n",
    "\n",
    "features = tf.concat(features, axis=0)\n",
    "labels = tf.concat(labels, axis=0)\n",
    "\n",
    "y_pred = bin_dnn_model.predict(features)\n",
    "y_pred = (y_pred > 0.5).astype(int).flatten()\n",
    "y_true = labels.numpy().flatten()\n",
    "    \n",
    "bin_dnn_metrics = score_and_confusion_matrix(y_pred, y_true, 'Binary MLP')"
   ]
  },
  {
   "cell_type": "markdown",
   "metadata": {},
   "source": [
    "## Results:\n",
    "\n",
    "* CNN-LSTM\n",
    "    * Accuracy: 99.091%\n",
    "    * Precision: 94.089%\n",
    "    * Recall: 99.011%\n",
    "    * F1 : 0.9649\n",
    "    * Kappa: 0.9597\n",
    "* Time Domain CNN:\n",
    "    * Accuracy: 99.286%\n",
    "    * Precision: 96.168%\n",
    "    * Recall: 98.256%\n",
    "    * F1 : 0.9720\n",
    "    * Kappa: 0.9679\n",
    "* CNN-GRU\n",
    "    * Accuracy: 99.415%\n",
    "    * Precision: 95.922%\n",
    "    * Recall: 99.591%\n",
    "    * F1 : 0.9772\n",
    "    * Kappa: 0.9739\n",
    "* 1D-CNN\n",
    "    * Accuracy: 99.615%\n",
    "    * Precision: 97.194%\n",
    "    * Recall: 99.829%\n",
    "    * F1 : 0.9849\n",
    "    * Kappa: 0.9827\n",
    "* MLP\n",
    "    * Accuracy: 99.583%\n",
    "    * Precision: 96.917%\n",
    "    * Recall: 99.871%\n",
    "    * F1 : 0.9837\n",
    "    * Kappa: 0.9813\n",
    "\n"
   ]
  },
  {
   "cell_type": "code",
   "execution_count": 15,
   "metadata": {},
   "outputs": [
    {
     "data": {
      "text/html": [
       "<pre style=\"white-space:pre;overflow-x:auto;line-height:normal;font-family:Menlo,'DejaVu Sans Mono',consolas,'Courier New',monospace\"><span style=\"font-weight: bold\">Model: \"functional_54\"</span>\n",
       "</pre>\n"
      ],
      "text/plain": [
       "\u001b[1mModel: \"functional_54\"\u001b[0m\n"
      ]
     },
     "metadata": {},
     "output_type": "display_data"
    },
    {
     "data": {
      "text/html": [
       "<pre style=\"white-space:pre;overflow-x:auto;line-height:normal;font-family:Menlo,'DejaVu Sans Mono',consolas,'Courier New',monospace\">┏━━━━━━━━━━━━━━━━━━━━━┳━━━━━━━━━━━━━━━━━━━┳━━━━━━━━━━━━┳━━━━━━━━━━━━━━━━━━━┓\n",
       "┃<span style=\"font-weight: bold\"> Layer (type)        </span>┃<span style=\"font-weight: bold\"> Output Shape      </span>┃<span style=\"font-weight: bold\">    Param # </span>┃<span style=\"font-weight: bold\"> Connected to      </span>┃\n",
       "┡━━━━━━━━━━━━━━━━━━━━━╇━━━━━━━━━━━━━━━━━━━╇━━━━━━━━━━━━╇━━━━━━━━━━━━━━━━━━━┩\n",
       "│ input_layer         │ (<span style=\"color: #00d7ff; text-decoration-color: #00d7ff\">None</span>, <span style=\"color: #00d7ff; text-decoration-color: #00d7ff\">None</span>, <span style=\"color: #00af00; text-decoration-color: #00af00\">39</span>)  │          <span style=\"color: #00af00; text-decoration-color: #00af00\">0</span> │ -                 │\n",
       "│ (<span style=\"color: #0087ff; text-decoration-color: #0087ff\">InputLayer</span>)        │                   │            │                   │\n",
       "├─────────────────────┼───────────────────┼────────────┼───────────────────┤\n",
       "│ sequential          │ (<span style=\"color: #00d7ff; text-decoration-color: #00d7ff\">None</span>, <span style=\"color: #00d7ff; text-decoration-color: #00d7ff\">None</span>, <span style=\"color: #00af00; text-decoration-color: #00af00\">1</span>)   │     <span style=\"color: #00af00; text-decoration-color: #00af00\">41,121</span> │ input_layer[<span style=\"color: #00af00; text-decoration-color: #00af00\">0</span>][<span style=\"color: #00af00; text-decoration-color: #00af00\">0</span>] │\n",
       "│ (<span style=\"color: #0087ff; text-decoration-color: #0087ff\">Sequential</span>)        │                   │            │                   │\n",
       "├─────────────────────┼───────────────────┼────────────┼───────────────────┤\n",
       "│ time_distributed    │ (<span style=\"color: #00d7ff; text-decoration-color: #00d7ff\">None</span>, <span style=\"color: #00d7ff; text-decoration-color: #00d7ff\">None</span>, <span style=\"color: #00af00; text-decoration-color: #00af00\">1</span>)   │      <span style=\"color: #00af00; text-decoration-color: #00af00\">2,781</span> │ input_layer[<span style=\"color: #00af00; text-decoration-color: #00af00\">0</span>][<span style=\"color: #00af00; text-decoration-color: #00af00\">0</span>] │\n",
       "│ (<span style=\"color: #0087ff; text-decoration-color: #0087ff\">TimeDistributed</span>)   │                   │            │                   │\n",
       "├─────────────────────┼───────────────────┼────────────┼───────────────────┤\n",
       "│ time_distributed_1  │ (<span style=\"color: #00d7ff; text-decoration-color: #00d7ff\">None</span>, <span style=\"color: #00d7ff; text-decoration-color: #00d7ff\">None</span>, <span style=\"color: #00af00; text-decoration-color: #00af00\">1</span>)   │      <span style=\"color: #00af00; text-decoration-color: #00af00\">2,781</span> │ input_layer[<span style=\"color: #00af00; text-decoration-color: #00af00\">0</span>][<span style=\"color: #00af00; text-decoration-color: #00af00\">0</span>] │\n",
       "│ (<span style=\"color: #0087ff; text-decoration-color: #0087ff\">TimeDistributed</span>)   │                   │            │                   │\n",
       "├─────────────────────┼───────────────────┼────────────┼───────────────────┤\n",
       "│ average (<span style=\"color: #0087ff; text-decoration-color: #0087ff\">Average</span>)   │ (<span style=\"color: #00d7ff; text-decoration-color: #00d7ff\">None</span>, <span style=\"color: #00d7ff; text-decoration-color: #00d7ff\">None</span>, <span style=\"color: #00af00; text-decoration-color: #00af00\">1</span>)   │          <span style=\"color: #00af00; text-decoration-color: #00af00\">0</span> │ sequential[<span style=\"color: #00af00; text-decoration-color: #00af00\">0</span>][<span style=\"color: #00af00; text-decoration-color: #00af00\">0</span>], │\n",
       "│                     │                   │            │ time_distributed… │\n",
       "│                     │                   │            │ time_distributed… │\n",
       "└─────────────────────┴───────────────────┴────────────┴───────────────────┘\n",
       "</pre>\n"
      ],
      "text/plain": [
       "┏━━━━━━━━━━━━━━━━━━━━━┳━━━━━━━━━━━━━━━━━━━┳━━━━━━━━━━━━┳━━━━━━━━━━━━━━━━━━━┓\n",
       "┃\u001b[1m \u001b[0m\u001b[1mLayer (type)       \u001b[0m\u001b[1m \u001b[0m┃\u001b[1m \u001b[0m\u001b[1mOutput Shape     \u001b[0m\u001b[1m \u001b[0m┃\u001b[1m \u001b[0m\u001b[1m   Param #\u001b[0m\u001b[1m \u001b[0m┃\u001b[1m \u001b[0m\u001b[1mConnected to     \u001b[0m\u001b[1m \u001b[0m┃\n",
       "┡━━━━━━━━━━━━━━━━━━━━━╇━━━━━━━━━━━━━━━━━━━╇━━━━━━━━━━━━╇━━━━━━━━━━━━━━━━━━━┩\n",
       "│ input_layer         │ (\u001b[38;5;45mNone\u001b[0m, \u001b[38;5;45mNone\u001b[0m, \u001b[38;5;34m39\u001b[0m)  │          \u001b[38;5;34m0\u001b[0m │ -                 │\n",
       "│ (\u001b[38;5;33mInputLayer\u001b[0m)        │                   │            │                   │\n",
       "├─────────────────────┼───────────────────┼────────────┼───────────────────┤\n",
       "│ sequential          │ (\u001b[38;5;45mNone\u001b[0m, \u001b[38;5;45mNone\u001b[0m, \u001b[38;5;34m1\u001b[0m)   │     \u001b[38;5;34m41,121\u001b[0m │ input_layer[\u001b[38;5;34m0\u001b[0m][\u001b[38;5;34m0\u001b[0m] │\n",
       "│ (\u001b[38;5;33mSequential\u001b[0m)        │                   │            │                   │\n",
       "├─────────────────────┼───────────────────┼────────────┼───────────────────┤\n",
       "│ time_distributed    │ (\u001b[38;5;45mNone\u001b[0m, \u001b[38;5;45mNone\u001b[0m, \u001b[38;5;34m1\u001b[0m)   │      \u001b[38;5;34m2,781\u001b[0m │ input_layer[\u001b[38;5;34m0\u001b[0m][\u001b[38;5;34m0\u001b[0m] │\n",
       "│ (\u001b[38;5;33mTimeDistributed\u001b[0m)   │                   │            │                   │\n",
       "├─────────────────────┼───────────────────┼────────────┼───────────────────┤\n",
       "│ time_distributed_1  │ (\u001b[38;5;45mNone\u001b[0m, \u001b[38;5;45mNone\u001b[0m, \u001b[38;5;34m1\u001b[0m)   │      \u001b[38;5;34m2,781\u001b[0m │ input_layer[\u001b[38;5;34m0\u001b[0m][\u001b[38;5;34m0\u001b[0m] │\n",
       "│ (\u001b[38;5;33mTimeDistributed\u001b[0m)   │                   │            │                   │\n",
       "├─────────────────────┼───────────────────┼────────────┼───────────────────┤\n",
       "│ average (\u001b[38;5;33mAverage\u001b[0m)   │ (\u001b[38;5;45mNone\u001b[0m, \u001b[38;5;45mNone\u001b[0m, \u001b[38;5;34m1\u001b[0m)   │          \u001b[38;5;34m0\u001b[0m │ sequential[\u001b[38;5;34m0\u001b[0m][\u001b[38;5;34m0\u001b[0m], │\n",
       "│                     │                   │            │ time_distributed… │\n",
       "│                     │                   │            │ time_distributed… │\n",
       "└─────────────────────┴───────────────────┴────────────┴───────────────────┘\n"
      ]
     },
     "metadata": {},
     "output_type": "display_data"
    },
    {
     "data": {
      "text/html": [
       "<pre style=\"white-space:pre;overflow-x:auto;line-height:normal;font-family:Menlo,'DejaVu Sans Mono',consolas,'Courier New',monospace\"><span style=\"font-weight: bold\"> Total params: </span><span style=\"color: #00af00; text-decoration-color: #00af00\">46,683</span> (182.36 KB)\n",
       "</pre>\n"
      ],
      "text/plain": [
       "\u001b[1m Total params: \u001b[0m\u001b[38;5;34m46,683\u001b[0m (182.36 KB)\n"
      ]
     },
     "metadata": {},
     "output_type": "display_data"
    },
    {
     "data": {
      "text/html": [
       "<pre style=\"white-space:pre;overflow-x:auto;line-height:normal;font-family:Menlo,'DejaVu Sans Mono',consolas,'Courier New',monospace\"><span style=\"font-weight: bold\"> Trainable params: </span><span style=\"color: #00af00; text-decoration-color: #00af00\">0</span> (0.00 B)\n",
       "</pre>\n"
      ],
      "text/plain": [
       "\u001b[1m Trainable params: \u001b[0m\u001b[38;5;34m0\u001b[0m (0.00 B)\n"
      ]
     },
     "metadata": {},
     "output_type": "display_data"
    },
    {
     "data": {
      "text/html": [
       "<pre style=\"white-space:pre;overflow-x:auto;line-height:normal;font-family:Menlo,'DejaVu Sans Mono',consolas,'Courier New',monospace\"><span style=\"font-weight: bold\"> Non-trainable params: </span><span style=\"color: #00af00; text-decoration-color: #00af00\">46,683</span> (182.36 KB)\n",
       "</pre>\n"
      ],
      "text/plain": [
       "\u001b[1m Non-trainable params: \u001b[0m\u001b[38;5;34m46,683\u001b[0m (182.36 KB)\n"
      ]
     },
     "metadata": {},
     "output_type": "display_data"
    }
   ],
   "source": [
    "from tensorflow.keras.layers import Input, Dense, TimeDistributed, Concatenate, Average\n",
    "\n",
    "input_shape = (None, n_features)\n",
    "input = Input(input_shape)\n",
    "\n",
    "td_bin_cnn1d_model = TimeDistributed(bin_cnn1d_model)\n",
    "td_bin_dnn_model = TimeDistributed(bin_dnn_model)\n",
    "\n",
    "bin_base_classifiers = [\n",
    "    bin_td_cnn_model,\n",
    "    td_bin_cnn1d_model,\n",
    "    td_bin_dnn_model,\n",
    "]\n",
    "\n",
    "# disabling training of base classifiers\n",
    "for bc in bin_base_classifiers:\n",
    "    bc.trainable=False\n",
    "\n",
    "base_classifiers_outputs = [bc(input) for bc in bin_base_classifiers]\n",
    "combined_output = Concatenate()(base_classifiers_outputs)\n",
    "\n",
    "\n",
    "y = Average()(base_classifiers_outputs)\n",
    "\n",
    "bin_arithmetic_mean_aggregate1 = tf.keras.Model(input, y)\n",
    "\n",
    "metaclassifier_epochs = 3\n",
    "\n",
    "bin_arithmetic_mean_aggregate1.compile(\n",
    "    optimizer = 'adam',\n",
    "    loss = 'binary_crossentropy',\n",
    "    metrics=['accuracy', 'precision', 'recall']\n",
    ")\n",
    "\n",
    "bin_arithmetic_mean_aggregate1.summary()"
   ]
  },
  {
   "cell_type": "code",
   "execution_count": null,
   "metadata": {},
   "outputs": [],
   "source": [
    "binary_sequential_test_ds = data_utils.create_binary_sequential_dataset(test_seq_files)\n",
    "features = []\n",
    "labels = []\n",
    "\n",
    "for x, y in binary_sequential_test_ds:\n",
    "    features.append(x)\n",
    "    labels.append(y)\n",
    "\n",
    "features = tf.concat(features, axis=0)\n",
    "labels = tf.concat(labels, axis=0)\n",
    "\n",
    "y_pred = bin_arithmetic_mean_aggregate1.predict(features)\n",
    "y_pred = (y_pred > 0.5).astype(int).flatten()\n",
    "y_true = labels.numpy().flatten()\n",
    "    \n",
    "bin_arithmentic_mean_score1 = score_and_confusion_matrix(y_pred, y_true, 'Binary stacked classifier, arithmetic mean, Time Domain CNN, 1D-CNN, MLP')"
   ]
  },
  {
   "cell_type": "code",
   "execution_count": null,
   "metadata": {},
   "outputs": [],
   "source": [
    "import math\n",
    "from tensorflow.keras.layers import Input, Dense, TimeDistributed, Concatenate, Lambda, Add\n",
    "\n",
    "input_shape = (None, n_features)\n",
    "input = Input(input_shape)\n",
    "\n",
    "td_bin_cnn1d_model = TimeDistributed(bin_cnn1d_model)\n",
    "td_bin_dnn_model = TimeDistributed(bin_dnn_model)\n",
    "\n",
    "bin_base_classifiers = [\n",
    "    bin_td_cnn_model,\n",
    "    td_bin_cnn1d_model,\n",
    "    td_bin_dnn_model,\n",
    "]\n",
    "\n",
    "bin_f1_weights = [\n",
    "    bin_cnn_lstm_metrics[3],\n",
    "    bin_cnn1d_metrics[3],\n",
    "    bin_dnn_metrics[3],\n",
    "]\n",
    "\n",
    "bin_f1_weights = [math.log(w / (1 - w)) for w in bin_f1_weights]\n",
    "\n",
    "sum_bin_f1_weights = sum(bin_f1_weights)\n",
    "\n",
    "bin_f1_weights = tf.constant([w / sum_bin_f1_weights for w in bin_f1_weights], dtype=tf.float32)\n",
    "\n",
    "print('F1 calculated_weights')\n",
    "print(bin_f1_weights.numpy())\n",
    "\n",
    "# disabling training of base classifiers\n",
    "for bc in bin_base_classifiers:\n",
    "    bc.trainable=False\n",
    "\n",
    "base_classifiers_outputs = [bc(input) for bc in bin_base_classifiers]\n",
    "combined_output = Concatenate()(base_classifiers_outputs)\n",
    "\n",
    "\n",
    "y = Lambda(lambda x: tf.multiply(x, bin_f1_weights), output_shape=(None, 3))(combined_output)\n",
    "y = Lambda(lambda x: tf.reduce_sum(x, axis =-1), output_shape=(None, 3))(y)\n",
    "\n",
    "bin_f1_weighted_aggregate1 = tf.keras.Model(input, y)\n",
    "\n",
    "\n",
    "bin_f1_weighted_aggregate1.compile(\n",
    "    optimizer = 'adam',\n",
    "    loss = 'binary_crossentropy',\n",
    "    metrics=['accuracy', 'precision', 'recall']\n",
    ")\n",
    "\n",
    "bin_f1_weighted_aggregate1.summary()"
   ]
  },
  {
   "cell_type": "code",
   "execution_count": null,
   "metadata": {},
   "outputs": [],
   "source": [
    "binary_sequential_test_ds = data_utils.create_binary_sequential_dataset(test_seq_files)\n",
    "features = []\n",
    "labels = []\n",
    "\n",
    "for x, y in binary_sequential_test_ds:\n",
    "    features.append(x)\n",
    "    labels.append(y)\n",
    "\n",
    "features = tf.concat(features, axis=0)\n",
    "labels = tf.concat(labels, axis=0)\n",
    "\n",
    "y_pred = bin_f1_weighted_aggregate1.predict(features)\n",
    "y_pred = (y_pred > 0.5).astype(int).flatten()\n",
    "y_true = labels.numpy().flatten()\n",
    "    \n",
    "bin_f1_weighted_score1 = score_and_confusion_matrix(y_pred, y_true, 'Binary stacked classifier, F1 score wheighted mean, Time Domain CNN, 1D-CNN, MLP')"
   ]
  },
  {
   "cell_type": "code",
   "execution_count": null,
   "metadata": {},
   "outputs": [],
   "source": [
    "import math\n",
    "from tensorflow.keras.layers import Input, Dense, TimeDistributed, Concatenate, Lambda, Add\n",
    "\n",
    "input_shape = (None, n_features)\n",
    "input = Input(input_shape)\n",
    "\n",
    "td_bin_cnn1d_model = TimeDistributed(bin_cnn1d_model)\n",
    "td_bin_dnn_model = TimeDistributed(bin_dnn_model)\n",
    "\n",
    "bin_base_classifiers = [\n",
    "    bin_td_cnn_model,\n",
    "    td_bin_cnn1d_model,\n",
    "    td_bin_dnn_model,\n",
    "]\n",
    "\n",
    "bin_kappa_weights = [\n",
    "    bin_cnn_lstm_metrics[4],\n",
    "    bin_cnn1d_metrics[4],\n",
    "    bin_dnn_metrics[4],\n",
    "]\n",
    "\n",
    "bin_kappa_weights = [math.log((1 + w) / (1 - w)) for w in bin_kappa_weights]\n",
    "\n",
    "sum_bin_kappa_weights = sum(bin_kappa_weights)\n",
    "\n",
    "bin_kappa_weights = tf.constant([w / sum_bin_kappa_weights for w in bin_kappa_weights], dtype=tf.float32)\n",
    "\n",
    "print('Kappa score calculated weights')\n",
    "print(bin_kappa_weights.numpy())\n",
    "\n",
    "# disabling training of base classifiers\n",
    "for bc in bin_base_classifiers:\n",
    "    bc.trainable=False\n",
    "\n",
    "base_classifiers_outputs = [bc(input) for bc in bin_base_classifiers]\n",
    "combined_output = Concatenate()(base_classifiers_outputs)\n",
    "\n",
    "\n",
    "y = Lambda(lambda x: tf.multiply(x, bin_kappa_weights), output_shape=(None, 3))(combined_output)\n",
    "y = Lambda(lambda x: tf.reduce_sum(x, axis =-1), output_shape=(None, 3))(y)\n",
    "\n",
    "bin_kappa_weighted_aggregate1 = tf.keras.Model(input, y)\n",
    "\n",
    "metaclassifier_epochs = 3\n",
    "\n",
    "bin_kappa_weighted_aggregate1.compile(\n",
    "    optimizer = 'adam',\n",
    "    loss = 'binary_crossentropy',\n",
    "    metrics=['accuracy', 'precision', 'recall']\n",
    ")\n",
    "\n",
    "bin_kappa_weighted_aggregate1.summary()"
   ]
  },
  {
   "cell_type": "code",
   "execution_count": null,
   "metadata": {},
   "outputs": [],
   "source": [
    "binary_sequential_test_ds = data_utils.create_binary_sequential_dataset(test_seq_files)\n",
    "features = []\n",
    "labels = []\n",
    "\n",
    "for x, y in binary_sequential_test_ds:\n",
    "    features.append(x)\n",
    "    labels.append(y)\n",
    "\n",
    "features = tf.concat(features, axis=0)\n",
    "labels = tf.concat(labels, axis=0)\n",
    "\n",
    "y_pred = bin_kappa_weighted_aggregate1.predict(features)\n",
    "y_pred = (y_pred > 0.5).astype(int).flatten()\n",
    "y_true = labels.numpy().flatten()\n",
    "    \n",
    "kappa_weighted_score1 = score_and_confusion_matrix(y_pred, y_true, 'Binary stacked classifier, Cohen Kappa score wheighted mean, Time Distributed CNN, 1D-CNN, MLP')"
   ]
  },
  {
   "cell_type": "code",
   "execution_count": null,
   "metadata": {},
   "outputs": [],
   "source": [
    "from tensorflow.keras.layers import Input, Dense, TimeDistributed, Concatenate, Reshape\n",
    "input_shape = (None, n_features)\n",
    "input = Input(input_shape)\n",
    "\n",
    "td_bin_cnn1d_model = TimeDistributed(bin_cnn1d_model)\n",
    "td_bin_dnn_model = TimeDistributed(bin_dnn_model)\n",
    "reshaped_bin_td_cnn = Reshape((None, 1))(bin_td_cnn_model(input))\n",
    "bin_base_classifiers = [\n",
    "    reshaped_bin_td_cnn,\n",
    "    td_bin_cnn1d_model,\n",
    "    td_bin_dnn_model,\n",
    "]\n",
    "\n",
    "# disabling training of base classifiers\n",
    "for bc in bin_base_classifiers:\n",
    "    bc.trainable=False\n",
    "\n",
    "base_classifiers_outputs = [\n",
    "    reshaped_bin_td_cnn,\n",
    "    td_bin_cnn1d_model(input),\n",
    "    td_bin_dnn_model(input)\n",
    "]\n",
    "combined_output = Concatenate()(base_classifiers_outputs)\n",
    "\n",
    "\n",
    "y = TimeDistributed(Dense(1, activation='sigmoid', kernel_regularizer='l2'))(combined_output)\n",
    "\n",
    "\n",
    "bin_stacked_log_regressor1 = tf.keras.Model(input, y)\n",
    "\n",
    "metaclassifier_epochs = 3\n",
    "\n",
    "bin_stacked_log_regressor1.compile(\n",
    "    optimizer = 'adam',\n",
    "    loss = 'binary_crossentropy',\n",
    "    metrics=['accuracy', 'precision', 'recall']\n",
    ")\n",
    "\n",
    "bin_stacked_log_regressor1.summary()"
   ]
  },
  {
   "cell_type": "code",
   "execution_count": null,
   "metadata": {},
   "outputs": [],
   "source": [
    "# creating sequences of length 1 from balanced dataset\n",
    "train_bin_seq_ds = data_utils.create_binary_sequential_dataset(train_bal_files, filter_out_normal=False, seq_length=1, seq_shift=1)\n",
    "val_bin_seq_ds = data_utils.create_binary_sequential_dataset(val_bal_files, filter_out_normal=False, seq_length=1, seq_shift=1)\n",
    "\n",
    "history = bin_stacked_log_regressor1.fit(\n",
    "    train_bin_seq_ds,\n",
    "    validation_data = val_bin_seq_ds,\n",
    "    epochs = metaclassifier_epochs,\n",
    ")\n",
    "\n",
    "plot_model_history(history.history, 'Stacked logistic regressor, CNN-LSTM, CNN1D, MLP')"
   ]
  },
  {
   "cell_type": "code",
   "execution_count": null,
   "metadata": {},
   "outputs": [],
   "source": [
    "binary_sequential_test_ds = data_utils.create_binary_sequential_dataset(test_seq_files)\n",
    "features = []\n",
    "labels = []\n",
    "\n",
    "for x, y in binary_sequential_test_ds:\n",
    "    features.append(x)\n",
    "    labels.append(y)\n",
    "\n",
    "features = tf.concat(features, axis=0)\n",
    "labels = tf.concat(labels, axis=0)\n",
    "\n",
    "y_pred = bin_stacked_log_regressor1.predict(features)\n",
    "y_pred = (y_pred > 0.5).astype(int).flatten()\n",
    "y_true = labels.numpy().flatten()\n",
    "    \n",
    "bin_stacked_log_regressor1_metics = score_and_confusion_matrix(y_pred, y_true, 'Binary stacked classifier, logistic regression, CNN-LSTM, 1D-CNN, MLP')"
   ]
  },
  {
   "cell_type": "code",
   "execution_count": null,
   "metadata": {},
   "outputs": [],
   "source": [
    "output_layer = bin_stacked_log_regressor1.layers[-1].layer.trainable_weights\n",
    "\n",
    "output_weights = output_layer[0].numpy()\n",
    "output_bias = output_layer[1].numpy()\n",
    "\n",
    "print(\"Logistic regressor weights:\\n\", output_weights)\n",
    "print(\"Logistic regressor bias: \", output_bias)"
   ]
  },
  {
   "cell_type": "code",
   "execution_count": null,
   "metadata": {},
   "outputs": [],
   "source": [
    "import math\n",
    "from tensorflow.keras.layers import Input, Dense, TimeDistributed, Concatenate, Lambda, Add\n",
    "\n",
    "input_shape = (None, n_features)\n",
    "input = Input(input_shape)\n",
    "\n",
    "td_bin_cnn1d_model = TimeDistributed(bin_cnn1d_model)\n",
    "td_bin_dnn_model = TimeDistributed(bin_dnn_model)\n",
    "\n",
    "bin_base_classifiers = [\n",
    "    bin_cnn_lstm_model,\n",
    "    td_bin_cnn1d_model,\n",
    "    td_bin_dnn_model,\n",
    "]\n",
    "\n",
    "bin_kappa_weights = [\n",
    "    bin_cnn_lstm_metrics[4],\n",
    "    bin_cnn1d_metrics[4],\n",
    "    bin_dnn_metrics[4],\n",
    "]\n",
    "\n",
    "sum_bin_kappa_weights = sum(bin_kappa_weights)\n",
    "\n",
    "bin_kappa_weights = tf.constant([w / sum_bin_kappa_weights for w in bin_kappa_weights], dtype=tf.float32)\n",
    "\n",
    "print(bin_kappa_weights)\n",
    "\n",
    "# disabling training of base classifiers\n",
    "for bc in bin_base_classifiers:\n",
    "    bc.trainable=False\n",
    "\n",
    "base_classifiers_outputs = [bc(input) for bc in bin_base_classifiers]\n",
    "combined_output = Concatenate()(base_classifiers_outputs)\n",
    "\n",
    "\n",
    "y = Lambda(lambda x: tf.multiply(x, bin_kappa_weights), output_shape=(None, 3))(combined_output)\n",
    "y = TimeDistributed(Dense(1, activation='sigmoid', kernel_regularizer='l2'))(y)\n",
    "\n",
    "bin_kappa_weighted_regressor1 = tf.keras.Model(input, y)\n",
    "\n",
    "metaclassifier_epochs = 3\n",
    "\n",
    "bin_kappa_weighted_regressor1.compile(\n",
    "    optimizer = 'adam',\n",
    "    loss = 'binary_crossentropy',\n",
    "    metrics=['accuracy', 'precision', 'recall']\n",
    ")\n",
    "\n",
    "bin_kappa_weighted_regressor1.summary()"
   ]
  },
  {
   "cell_type": "code",
   "execution_count": null,
   "metadata": {},
   "outputs": [],
   "source": [
    "# creating sequences of length 1 from balanced dataset\n",
    "train_bin_seq_ds = data_utils.create_binary_sequential_dataset(train_bal_files, filter_out_normal=False, seq_length=1, seq_shift=1)\n",
    "val_bin_seq_ds = data_utils.create_binary_sequential_dataset(val_bal_files, filter_out_normal=False, seq_length=1, seq_shift=1)\n",
    "\n",
    "history = bin_kappa_weighted_regressor1.fit(\n",
    "    train_bin_seq_ds,\n",
    "    validation_data = val_bin_seq_ds,\n",
    "    epochs = metaclassifier_epochs,\n",
    ")\n",
    "\n",
    "plot_model_history(history.history, 'Stacked weighted logistic regressor, CNN-LSTM, CNN1D, MLP')"
   ]
  },
  {
   "cell_type": "code",
   "execution_count": null,
   "metadata": {},
   "outputs": [],
   "source": [
    "from tensorflow.keras.layers import Input, Dense, TimeDistributed, Concatenate\n",
    "\n",
    "input_shape = (None, n_features)\n",
    "input = Input(input_shape)\n",
    "\n",
    "td_bin_cnn1d_model = TimeDistributed(bin_cnn1d_model)\n",
    "td_bin_dnn_model = TimeDistributed(bin_dnn_model)\n",
    "\n",
    "bin_base_classifiers = [\n",
    "    bin_cnn_lstm_model,\n",
    "    td_bin_cnn1d_model,\n",
    "    td_bin_dnn_model,\n",
    "]\n",
    "\n",
    "# disabling training of base classifiers\n",
    "for bc in bin_base_classifiers:\n",
    "    bc.trainable=False\n",
    "\n",
    "base_classifiers_outputs = [bc(input) for bc in bin_base_classifiers]\n",
    "combined_output = Concatenate()(base_classifiers_outputs)\n",
    "\n",
    "\n",
    "y = TimeDistributed(Dense(4, activation='relu', kernel_regularizer='l2'))(combined_output)\n",
    "y = TimeDistributed(Dense(4, activation='relu', kernel_regularizer='l2'))(y)\n",
    "y = TimeDistributed(Dense(1, activation='sigmoid', kernel_regularizer='l2'))(y)\n",
    "\n",
    "\n",
    "bin_stacked_dnn_classifier1 = tf.keras.Model(input, y)\n",
    "\n",
    "metaclassifier_epochs = 3\n",
    "\n",
    "bin_stacked_dnn_classifier1.compile(\n",
    "    optimizer = 'adam',\n",
    "    loss = 'binary_crossentropy',\n",
    "    metrics=['accuracy', 'precision', 'recall']\n",
    ")\n",
    "\n",
    "bin_stacked_dnn_classifier1.summary()"
   ]
  },
  {
   "cell_type": "code",
   "execution_count": null,
   "metadata": {},
   "outputs": [],
   "source": [
    "train_bin_seq_ds = data_utils.create_binary_sequential_dataset(train_bal_files, filter_out_normal=False, seq_length=1, seq_shift=1)\n",
    "val_bin_seq_ds = data_utils.create_binary_sequential_dataset(val_bal_files, filter_out_normal=False, seq_length=1, seq_shift=1)\n",
    "\n",
    "history = bin_stacked_dnn_classifier1.fit(\n",
    "    train_bin_seq_ds,\n",
    "    validation_data = val_bin_seq_ds,\n",
    "    epochs = metaclassifier_epochs\n",
    ")\n",
    "\n",
    "plot_model_history(history.history, 'Stacked MLP classifier, CNN-LSTM, CNN1D, MLP')"
   ]
  },
  {
   "cell_type": "code",
   "execution_count": null,
   "metadata": {},
   "outputs": [],
   "source": [
    "binary_sequential_test_ds = data_utils.create_binary_sequential_dataset(test_seq_files)\n",
    "features = []\n",
    "labels = []\n",
    "\n",
    "for x, y in binary_sequential_test_ds:\n",
    "    features.append(x)\n",
    "    labels.append(y)\n",
    "\n",
    "features = tf.concat(features, axis=0)\n",
    "labels = tf.concat(labels, axis=0)\n",
    "\n",
    "y_pred = bin_stacked_dnn_classifier1.predict(features)\n",
    "y_pred = (y_pred > 0.5).astype(int).flatten()\n",
    "y_true = labels.numpy().flatten()\n",
    "    \n",
    "bin_stacked_dnn_classifier_metrics = score_and_confusion_matrix(y_pred, y_true, 'Binary stacked classifier, MLP, CNN-LSTM, 1D-CNN, MLP')"
   ]
  },
  {
   "cell_type": "markdown",
   "metadata": {},
   "source": [
    "----------------------------------------------------------"
   ]
  },
  {
   "cell_type": "code",
   "execution_count": null,
   "metadata": {},
   "outputs": [],
   "source": [
    "from tensorflow.keras.layers import Input, Dense, TimeDistributed, Concatenate, Average\n",
    "\n",
    "input_shape = (None, n_features)\n",
    "input = Input(input_shape)\n",
    "\n",
    "td_bin_dnn_model = TimeDistributed(bin_dnn_model)\n",
    "\n",
    "bin_base_classifiers = [\n",
    "    bin_td_cnn_model,\n",
    "    bin_cnn_gru_model,\n",
    "    td_bin_dnn_model,\n",
    "]\n",
    "\n",
    "# disabling training of base classifiers\n",
    "for bc in bin_base_classifiers:\n",
    "    bc.trainable=False\n",
    "\n",
    "base_classifiers_outputs = [bc(input) for bc in bin_base_classifiers]\n",
    "combined_output = Concatenate()(base_classifiers_outputs)\n",
    "\n",
    "\n",
    "y = Average()(base_classifiers_outputs)\n",
    "\n",
    "bin_arithmetic_mean_aggregate2 = tf.keras.Model(input, y)\n",
    "\n",
    "metaclassifier_epochs = 3\n",
    "\n",
    "bin_arithmetic_mean_aggregate2.compile(\n",
    "    optimizer = 'adam',\n",
    "    loss = 'binary_crossentropy',\n",
    "    metrics=['accuracy', 'precision', 'recall']\n",
    ")\n",
    "\n",
    "bin_arithmetic_mean_aggregate2.summary()"
   ]
  },
  {
   "cell_type": "code",
   "execution_count": null,
   "metadata": {},
   "outputs": [],
   "source": [
    "binary_sequential_test_ds = data_utils.create_binary_sequential_dataset(test_seq_files)\n",
    "features = []\n",
    "labels = []\n",
    "\n",
    "for x, y in binary_sequential_test_ds:\n",
    "    features.append(x)\n",
    "    labels.append(y)\n",
    "\n",
    "features = tf.concat(features, axis=0)\n",
    "labels = tf.concat(labels, axis=0)\n",
    "\n",
    "y_pred = bin_arithmetic_mean_aggregate2.predict(features)\n",
    "y_pred = (y_pred > 0.5).astype(int).flatten()\n",
    "y_true = labels.numpy().flatten()\n",
    "    \n",
    "score_and_confusion_matrix(y_pred, y_true, 'Binary stacked classifier, arithmetic mean, CNN-GRU, Time Domain CNN, MLP')"
   ]
  },
  {
   "cell_type": "code",
   "execution_count": null,
   "metadata": {},
   "outputs": [],
   "source": [
    "import math\n",
    "from tensorflow.keras.layers import Input, Dense, TimeDistributed, Concatenate, Lambda, Add\n",
    "\n",
    "input_shape = (None, n_features)\n",
    "input = Input(input_shape)\n",
    "\n",
    "td_bin_dnn_model = TimeDistributed(bin_dnn_model)\n",
    "\n",
    "bin_base_classifiers = [\n",
    "    bin_td_cnn_model,\n",
    "    bin_cnn_gru_model,\n",
    "    td_bin_dnn_model,\n",
    "]\n",
    "\n",
    "bin_f1_weights = [\n",
    "    bin_td_cnn_metrics[3],\n",
    "    bin_cnb_gru_metrics[3],\n",
    "    bin_dnn_metrics[3],\n",
    "]\n",
    "\n",
    "bin_f1_weights = [math.log(w / (1 - w)) for w in bin_f1_weights]\n",
    "\n",
    "sum_bin_f1_weights = sum(bin_f1_weights)\n",
    "\n",
    "bin_f1_weights = tf.constant([w / sum_bin_f1_weights for w in bin_f1_weights], dtype=tf.float32)\n",
    "\n",
    "print(bin_f1_weights)\n",
    "\n",
    "# disabling training of base classifiers\n",
    "for bc in bin_base_classifiers:\n",
    "    bc.trainable=False\n",
    "\n",
    "base_classifiers_outputs = [bc(input) for bc in bin_base_classifiers]\n",
    "combined_output = Concatenate()(base_classifiers_outputs)\n",
    "\n",
    "\n",
    "y = Lambda(lambda x: tf.multiply(x, bin_f1_weights), output_shape=(None, 3))(combined_output)\n",
    "y = Lambda(lambda x: tf.reduce_sum(x, axis =-1), output_shape=(None, 3))(y)\n",
    "\n",
    "bin_f1_weighted_aggregate2 = tf.keras.Model(input, y)\n",
    "\n",
    "\n",
    "bin_f1_weighted_aggregate.compile(\n",
    "    optimizer = 'adam',\n",
    "    loss = 'binary_crossentropy',\n",
    "    metrics=['accuracy', 'precision', 'recall']\n",
    ")\n",
    "\n",
    "bin_f1_weighted_aggregate2.summary()"
   ]
  },
  {
   "cell_type": "code",
   "execution_count": null,
   "metadata": {},
   "outputs": [],
   "source": [
    "binary_sequential_test_ds = data_utils.create_binary_sequential_dataset(test_seq_files)\n",
    "features = []\n",
    "labels = []\n",
    "\n",
    "for x, y in binary_sequential_test_ds:\n",
    "    features.append(x)\n",
    "    labels.append(y)\n",
    "\n",
    "features = tf.concat(features, axis=0)\n",
    "labels = tf.concat(labels, axis=0)\n",
    "\n",
    "y_pred = bin_f1_weighted_aggregate2.predict(features)\n",
    "y_pred = (y_pred > 0.5).astype(int).flatten()\n",
    "y_true = labels.numpy().flatten()\n",
    "    \n",
    "score_and_confusion_matrix(y_pred, y_true, 'Binary stacked classifier, F1 score wheighted mean, CNN-GRU, Time Domain CNN, MLP')"
   ]
  },
  {
   "cell_type": "code",
   "execution_count": null,
   "metadata": {},
   "outputs": [],
   "source": [
    "import math\n",
    "from tensorflow.keras.layers import Input, Dense, TimeDistributed, Concatenate, Lambda, Add\n",
    "\n",
    "input_shape = (None, n_features)\n",
    "input = Input(input_shape)\n",
    "\n",
    "td_bin_cnn1d_model = TimeDistributed(bin_cnn1d_model)\n",
    "td_bin_dnn_model = TimeDistributed(bin_dnn_model)\n",
    "\n",
    "bin_base_classifiers = [\n",
    "    bin_td_cnn_model,\n",
    "    bin_cnn_gru_model,\n",
    "    td_bin_dnn_model,\n",
    "]\n",
    "\n",
    "bin_kappa_weights = [\n",
    "    bin_td_cnn_metrics[4],\n",
    "    bin_cnb_gru_metrics[4],\n",
    "    bin_dnn_metrics[4],\n",
    "]\n",
    "\n",
    "bin_kappa_weights = [math.log((1 + w) / (1 - w)) for w in bin_kappa_weights]\n",
    "\n",
    "sum_bin_kappa_weights = sum(bin_kappa_weights)\n",
    "\n",
    "bin_kappa_weights = tf.constant([w / sum_bin_kappa_weights for w in bin_kappa_weights], dtype=tf.float32)\n",
    "\n",
    "print(bin_kappa_weights)\n",
    "\n",
    "# disabling training of base classifiers\n",
    "for bc in bin_base_classifiers:\n",
    "    bc.trainable=False\n",
    "\n",
    "base_classifiers_outputs = [bc(input) for bc in bin_base_classifiers]\n",
    "combined_output = Concatenate()(base_classifiers_outputs)\n",
    "\n",
    "\n",
    "y = Lambda(lambda x: tf.multiply(x, bin_kappa_weights), output_shape=(None, 3))(combined_output)\n",
    "y = Lambda(lambda x: tf.reduce_sum(x, axis =-1), output_shape=(None, 3))(y)\n",
    "\n",
    "bin_kappa_weighted_aggregate2 = tf.keras.Model(input, y)\n",
    "\n",
    "metaclassifier_epochs = 3\n",
    "\n",
    "bin_kappa_weighted_aggregate.compile(\n",
    "    optimizer = 'adam',\n",
    "    loss = 'binary_crossentropy',\n",
    "    metrics=['accuracy', 'precision', 'recall']\n",
    ")\n",
    "\n",
    "bin_kappa_weighted_aggregate2.summary()"
   ]
  },
  {
   "cell_type": "code",
   "execution_count": null,
   "metadata": {},
   "outputs": [],
   "source": [
    "binary_sequential_test_ds = data_utils.create_binary_sequential_dataset(test_seq_files)\n",
    "features = []\n",
    "labels = []\n",
    "\n",
    "for x, y in binary_sequential_test_ds:\n",
    "    features.append(x)\n",
    "    labels.append(y)\n",
    "\n",
    "features = tf.concat(features, axis=0)\n",
    "labels = tf.concat(labels, axis=0)\n",
    "\n",
    "y_pred = bin_kappa_weighted_aggregate2.predict(features)\n",
    "y_pred = (y_pred > 0.5).astype(int).flatten()\n",
    "y_true = labels.numpy().flatten()\n",
    "    \n",
    "score_and_confusion_matrix(y_pred, y_true, 'Binary stacked classifier, Cohen Kappa score wheighted mean, CNN-GRU, Time Domain CNN, MLP')"
   ]
  },
  {
   "cell_type": "code",
   "execution_count": null,
   "metadata": {},
   "outputs": [],
   "source": [
    "from tensorflow.keras.layers import Input, Dense, TimeDistributed, Concatenate\n",
    "input_shape = (None, n_features)\n",
    "input = Input(input_shape)\n",
    "\n",
    "td_bin_cnn1d_model = TimeDistributed(bin_cnn1d_model)\n",
    "td_bin_dnn_model = TimeDistributed(bin_dnn_model)\n",
    "\n",
    "bin_base_classifiers = [\n",
    "    bin_td_cnn_model,\n",
    "    bin_cnn_gru_model,\n",
    "    td_bin_dnn_model,\n",
    "]\n",
    "\n",
    "# disabling training of base classifiers\n",
    "for bc in bin_base_classifiers:\n",
    "    bc.trainable=False\n",
    "\n",
    "base_classifiers_outputs = [bc(input) for bc in bin_base_classifiers]\n",
    "combined_output = Concatenate()(base_classifiers_outputs)\n",
    "\n",
    "\n",
    "y = TimeDistributed(Dense(1, activation='sigmoid', kernel_regularizer='l2'))(combined_output)\n",
    "\n",
    "\n",
    "bin_stacked_log_regressor2 = tf.keras.Model(input, y)\n",
    "\n",
    "metaclassifier_epochs = 3\n",
    "\n",
    "bin_stacked_log_regressor2.compile(\n",
    "    optimizer = 'adam',\n",
    "    loss = 'binary_crossentropy',\n",
    "    metrics=['accuracy', 'precision', 'recall']\n",
    ")\n",
    "\n",
    "bin_stacked_log_regressor2.summary()"
   ]
  },
  {
   "cell_type": "code",
   "execution_count": null,
   "metadata": {},
   "outputs": [],
   "source": [
    "# creating sequences of length 1 from balanced dataset\n",
    "train_bin_seq_ds = data_utils.create_binary_sequential_dataset(train_bal_files, filter_out_normal=False, seq_length=1, seq_shift=1)\n",
    "val_bin_seq_ds = data_utils.create_binary_sequential_dataset(val_bal_files, filter_out_normal=False, seq_length=1, seq_shift=1)\n",
    "\n",
    "history = bin_stacked_log_regressor2.fit(\n",
    "    train_bin_seq_ds,\n",
    "    validation_data = val_bin_seq_ds,\n",
    "    epochs = metaclassifier_epochs,\n",
    ")\n",
    "\n",
    "plot_model_history(history.history, 'Stacked logistic regressor, CNN-GRU, Time Domain CNN, MLP')"
   ]
  },
  {
   "cell_type": "code",
   "execution_count": null,
   "metadata": {},
   "outputs": [],
   "source": [
    "binary_sequential_test_ds = data_utils.create_binary_sequential_dataset(test_seq_files)\n",
    "features = []\n",
    "labels = []\n",
    "\n",
    "for x, y in binary_sequential_test_ds:\n",
    "    features.append(x)\n",
    "    labels.append(y)\n",
    "\n",
    "features = tf.concat(features, axis=0)\n",
    "labels = tf.concat(labels, axis=0)\n",
    "\n",
    "y_pred = bin_stacked_log_regressor2.predict(features)\n",
    "y_pred = (y_pred > 0.5).astype(int).flatten()\n",
    "y_true = labels.numpy().flatten()\n",
    "    \n",
    "score_and_confusion_matrix(y_pred, y_true, 'Binary stacked classifier, Logistic Regression, CNN-GRU, Time Domain CNN, MLP')"
   ]
  },
  {
   "cell_type": "code",
   "execution_count": null,
   "metadata": {},
   "outputs": [],
   "source": [
    "import math\n",
    "from tensorflow.keras.layers import Input, Dense, TimeDistributed, Concatenate, Lambda, Add\n",
    "\n",
    "input_shape = (None, n_features)\n",
    "input = Input(input_shape)\n",
    "\n",
    "td_bin_cnn1d_model = TimeDistributed(bin_cnn1d_model)\n",
    "td_bin_dnn_model = TimeDistributed(bin_dnn_model)\n",
    "\n",
    "bin_base_classifiers = [\n",
    "    bin_cnn_lstm_model,\n",
    "    td_bin_cnn1d_model,\n",
    "    td_bin_dnn_model,\n",
    "]\n",
    "\n",
    "bin_kappa_weights = [\n",
    "    bin_cnn_lstm_metrics[4],\n",
    "    bin_cnn1d_metrics[4],\n",
    "    bin_dnn_metrics[4],\n",
    "]\n",
    "\n",
    "sum_bin_kappa_weights = sum(bin_kappa_weights)\n",
    "\n",
    "bin_kappa_weights = tf.constant([w / sum_bin_kappa_weights for w in bin_kappa_weights], dtype=tf.float32)\n",
    "\n",
    "print(bin_kappa_weights)\n",
    "\n",
    "# disabling training of base classifiers\n",
    "for bc in bin_base_classifiers:\n",
    "    bc.trainable=False\n",
    "\n",
    "base_classifiers_outputs = [bc(input) for bc in bin_base_classifiers]\n",
    "combined_output = Concatenate()(base_classifiers_outputs)\n",
    "\n",
    "\n",
    "y = Lambda(lambda x: tf.multiply(x, bin_kappa_weights), output_shape=(None, 3))(combined_output)\n",
    "y = TimeDistributed(Dense(1, activation='sigmoid', kernel_regularizer='l2'))(y)\n",
    "\n",
    "bin_kappa_weighted_regressor2 = tf.keras.Model(input, y)\n",
    "\n",
    "metaclassifier_epochs = 3\n",
    "\n",
    "bin_kappa_weighted_regressor2.compile(\n",
    "    optimizer = 'adam',\n",
    "    loss = 'binary_crossentropy',\n",
    "    metrics=['accuracy', 'precision', 'recall']\n",
    ")\n",
    "\n",
    "bin_kappa_weighted_regressor2.summary()"
   ]
  },
  {
   "cell_type": "code",
   "execution_count": null,
   "metadata": {},
   "outputs": [],
   "source": [
    "# creating sequences of length 1 from balanced dataset\n",
    "train_bin_seq_ds = data_utils.create_binary_sequential_dataset(train_bal_files, filter_out_normal=False, seq_length=1, seq_shift=1)\n",
    "val_bin_seq_ds = data_utils.create_binary_sequential_dataset(val_bal_files, filter_out_normal=False, seq_length=1, seq_shift=1)\n",
    "\n",
    "history = bin_kappa_weighted_regressor2.fit(\n",
    "    train_bin_seq_ds,\n",
    "    validation_data = val_bin_seq_ds,\n",
    "    epochs = metaclassifier_epochs,\n",
    ")\n",
    "\n",
    "plot_model_history(history.history, 'Stacked logistic regressor, CNN-GRU, Time Domain CNN, MLP')"
   ]
  },
  {
   "cell_type": "code",
   "execution_count": null,
   "metadata": {},
   "outputs": [],
   "source": [
    "binary_sequential_test_ds = data_utils.create_binary_sequential_dataset(test_seq_files)\n",
    "features = []\n",
    "labels = []\n",
    "\n",
    "for x, y in binary_sequential_test_ds:\n",
    "    features.append(x)\n",
    "    labels.append(y)\n",
    "\n",
    "features = tf.concat(features, axis=0)\n",
    "labels = tf.concat(labels, axis=0)\n",
    "\n",
    "y_pred = bin_kappa_weighted_regressor2.predict(features)\n",
    "y_pred = (y_pred > 0.5).astype(int).flatten()\n",
    "y_true = labels.numpy().flatten()\n",
    "    \n",
    "score_and_confusion_matrix(y_pred, y_true, 'Binary stacked classifier, Logistic Regression, CNN-GRU, Time Domain CNN, MLP')"
   ]
  },
  {
   "cell_type": "code",
   "execution_count": null,
   "metadata": {},
   "outputs": [],
   "source": [
    "from tensorflow.keras.layers import Input, Dense, TimeDistributed, Concatenate\n",
    "\n",
    "input_shape = (None, n_features)\n",
    "input = Input(input_shape)\n",
    "\n",
    "td_bin_cnn1d_model = TimeDistributed(bin_cnn1d_model)\n",
    "td_bin_dnn_model = TimeDistributed(bin_dnn_model)\n",
    "\n",
    "bin_base_classifiers = [\n",
    "    bin_cnn_lstm_model,\n",
    "    td_bin_cnn1d_model,\n",
    "    td_bin_dnn_model,\n",
    "]\n",
    "\n",
    "# disabling training of base classifiers\n",
    "for bc in bin_base_classifiers:\n",
    "    bc.trainable=False\n",
    "\n",
    "base_classifiers_outputs = [bc(input) for bc in bin_base_classifiers]\n",
    "combined_output = Concatenate()(base_classifiers_outputs)\n",
    "\n",
    "\n",
    "y = TimeDistributed(Dense(4, activation='relu', kernel_regularizer='l2'))(combined_output)\n",
    "y = TimeDistributed(Dense(4, activation='relu', kernel_regularizer='l2'))(y)\n",
    "y = TimeDistributed(Dense(1, activation='sigmoid', kernel_regularizer='l2'))(y)\n",
    "\n",
    "\n",
    "bin_stacked_dnn_classifier2 = tf.keras.Model(input, y)\n",
    "\n",
    "metaclassifier_epochs = 5\n",
    "\n",
    "bin_stacked_dnn_classifier2.compile(\n",
    "    optimizer = 'adam',\n",
    "    loss = 'binary_crossentropy',\n",
    "    metrics=['accuracy', 'precision', 'recall']\n",
    ")\n",
    "\n",
    "bin_stacked_dnn_classifier2.summary()"
   ]
  },
  {
   "cell_type": "code",
   "execution_count": null,
   "metadata": {},
   "outputs": [],
   "source": [
    "# creating sequences of length 1 from balanced dataset\n",
    "train_bin_seq_ds = data_utils.create_binary_sequential_dataset(train_bal_files, filter_out_normal=False, seq_length=1, seq_shift=1)\n",
    "val_bin_seq_ds = data_utils.create_binary_sequential_dataset(val_bal_files, filter_out_normal=False, seq_length=1, seq_shift=1)\n",
    "\n",
    "history = bin_stacked_dnn_classifier2.fit(\n",
    "    train_bin_seq_ds,\n",
    "    validation_data = val_bin_seq_ds,\n",
    "    epochs = metaclassifier_epochs,\n",
    ")\n",
    "\n",
    "plot_model_history(history.history, 'Stacked logistic regressor, CNN-GRU, Time Domain CNN, MLP')"
   ]
  },
  {
   "cell_type": "code",
   "execution_count": null,
   "metadata": {},
   "outputs": [],
   "source": [
    "binary_sequential_test_ds = data_utils.create_binary_sequential_dataset(test_seq_files)\n",
    "features = []\n",
    "labels = []\n",
    "\n",
    "for x, y in binary_sequential_test_ds:\n",
    "    features.append(x)\n",
    "    labels.append(y)\n",
    "\n",
    "features = tf.concat(features, axis=0)\n",
    "labels = tf.concat(labels, axis=0)\n",
    "\n",
    "y_pred = bin_stacked_dnn_classifier2.predict(features)\n",
    "y_pred = (y_pred > 0.5).astype(int).flatten()\n",
    "y_true = labels.numpy().flatten()\n",
    "    \n",
    "score_and_confusion_matrix(y_pred, y_true, 'Binary stacked classifier, MLP, CNN-GRU, Time Domain CNN, MLP')"
   ]
  },
  {
   "cell_type": "markdown",
   "metadata": {},
   "source": [
    "----------------------------------------------------------------------"
   ]
  },
  {
   "cell_type": "code",
   "execution_count": null,
   "metadata": {},
   "outputs": [],
   "source": [
    "import multiclass_cnn_lstm\n",
    "import data_utils\n",
    "\n",
    "mul_cnn_lstm_model = multiclass_cnn_lstm.multiclass_CNN_LSTM_model()\n",
    "\n",
    "if not mul_cnn_lstm_model.built:\n",
    "    dataset_lambda = lambda x: data_utils.create_multiclass_sequential_dataset(x)\n",
    "    histories = data_utils.step_training(\n",
    "        train_seq_files,\n",
    "        val_seq_files,\n",
    "        mul_cnn_lstm_model,\n",
    "        dataset_lambda,\n",
    "        epochs_per_step=4,\n",
    "        training_callbacks=[multiclass_cnn_lstm.checkpoint_callback],\n",
    "        n_initial_files = 5,\n",
    "        increment = 0.5\n",
    "        \n",
    "    )\n",
    "    history = defaultdict(list)\n",
    "    for h in histories:\n",
    "        for metric, values in h.items():\n",
    "            history[metric].extend(values) \n",
    "    \n",
    "    plot_model_history(history, \"Multiclass CNN-LSTM\")\n",
    "    print(history)\n",
    "    #loading best checkpoint\n",
    "    mul_cnn_lstm_model = multiclass_cnn_lstm.multiclass_CNN_LSTM_model()\n",
    "    \n",
    "    \n",
    "mul_cnn_lstm_model.summary()\n"
   ]
  },
  {
   "cell_type": "code",
   "execution_count": null,
   "metadata": {},
   "outputs": [],
   "source": [
    "multiclass_sequential_test_ds = data_utils.create_multiclass_sequential_dataset(test_seq_files)\n",
    "features = []\n",
    "labels = []\n",
    "\n",
    "for x, y in multiclass_sequential_test_ds:\n",
    "    features.append(x)\n",
    "    labels.append(y)\n",
    "\n",
    "features = tf.concat(features, axis=0)\n",
    "labels = tf.math.argmax(labels, axis=-1)\n",
    "labels = tf.concat(labels, axis=0)\n",
    "\n",
    "y_pred = bin_cnn_lstm_model.predict(features)\n",
    "y_pred = tf.math.argmax(y_pred, axus=-1)\n",
    "y_true = labels.numpy().flatten()\n",
    "    \n",
    "mul_cnn_lstm_metrics = score_and_confusion_matrix(y_pred, y_true, \"Multiclass CNN-LSTM\", binary=False)\n"
   ]
  },
  {
   "cell_type": "code",
   "execution_count": null,
   "metadata": {},
   "outputs": [],
   "source": [
    "import multiclass_cnn_gru_lite\n",
    "import data_utils\n",
    "\n",
    "mul_cnn_gru_model = multiclass_cnn_gru_lite.multiclass_CNN_GRU_lite_model()\n",
    "\n",
    "if not mul_cnn_gru_model.built:\n",
    "    dataset_lambda = lambda x: data_utils.create_multiclass_sequential_dataset(x)\n",
    "    histories = data_utils.step_training(\n",
    "        train_seq_files,\n",
    "        val_seq_files,\n",
    "        mul_cnn_gru_model,\n",
    "        dataset_lambda,\n",
    "        epochs_per_step=4,\n",
    "        training_callbacks=[multiclass_gru_lite.checkpoint_callback],\n",
    "        n_initial_files = 5,\n",
    "        increment = 0.5\n",
    "        \n",
    "    )\n",
    "    history = defaultdict(list)\n",
    "    for h in histories:\n",
    "        for metric, values in h.items():\n",
    "            history[metric].extend(values) \n",
    "    \n",
    "    plot_model_history(history, \"Multiclass CNN-GRU\")\n",
    "    print(history)\n",
    "    #loading best checkpoint\n",
    "    mul_cnn_gru_model = multiclass_cnn_gru_lite.multiclass_CNN_GRU_lite_model()\n",
    "    \n",
    "    \n",
    "mul_cnn_gru_model.summary()\n"
   ]
  },
  {
   "cell_type": "code",
   "execution_count": null,
   "metadata": {},
   "outputs": [],
   "source": [
    "multiclass_sequential_test_ds = data_utils.create_multiclass_sequential_dataset(test_seq_files)\n",
    "features = []\n",
    "labels = []\n",
    "\n",
    "for x, y in multiclass_sequential_test_ds:\n",
    "    features.append(x)\n",
    "    labels.append(y)\n",
    "\n",
    "features = tf.concat(features, axis=0)\n",
    "labels = tf.math.argmax(labels, axis=-1)\n",
    "labels = tf.concat(labels, axis=0)\n",
    "\n",
    "y_pred = bin_cnn_lstm_model.predict(features)\n",
    "y_pred = tf.math.argmax(y_pred, axus=-1)\n",
    "y_true = labels.numpy().flatten()\n",
    "    \n",
    "mul_cnn_gru_metrics = score_and_confusion_matrix(y_pred, y_true, \"Multiclass CNN-GRU\", binary=False)"
   ]
  },
  {
   "cell_type": "code",
   "execution_count": null,
   "metadata": {},
   "outputs": [],
   "source": [
    "import multiclass_td_cnn\n",
    "import data_utils\n",
    "\n",
    "mul_td_cnn_model = multiclass_td_cnn.multiclass_time_domain_CNN_model()\n",
    "\n",
    "if not mul_td_cnn_model.built:\n",
    "    dataset_lambda = lambda x: data_utils.create_multiclass_sequential_dataset(x)\n",
    "    histories = data_utils.step_training(\n",
    "        train_seq_files,\n",
    "        val_seq_files,\n",
    "        mul_td_cnn_model,\n",
    "        dataset_lambda,\n",
    "        epochs_per_step=4,\n",
    "        training_callbacks=[multiclass_td_cnn.checkpoint_callback],\n",
    "        n_initial_files = 5,\n",
    "        increment = 0.5\n",
    "        \n",
    "    )\n",
    "    history = defaultdict(list)\n",
    "    for h in histories:\n",
    "        for metric, values in h.items():\n",
    "            history[metric].extend(values) \n",
    "    \n",
    "    plot_model_history(history, \"Multiclass Time-Domain CNN\")\n",
    "    print(history)\n",
    "    #loading best checkpoint\n",
    "    mul_td_cnn_model = multiclass_td_cnn.multiclass_time_domain_CNN_model()\n",
    "    \n",
    "    \n",
    "mul_td_cnn_model.summary()\n"
   ]
  },
  {
   "cell_type": "code",
   "execution_count": null,
   "metadata": {},
   "outputs": [],
   "source": [
    "multiclass_sequential_test_ds = data_utils.create_multiclass_sequential_dataset(test_seq_files)\n",
    "features = []\n",
    "labels = []\n",
    "\n",
    "for x, y in multiclass_sequential_test_ds:\n",
    "    features.append(x)\n",
    "    labels.append(y)\n",
    "\n",
    "features = tf.concat(features, axis=0)\n",
    "labels = tf.math.argmax(labels, axis=-1)\n",
    "labels = tf.concat(labels, axis=0)\n",
    "\n",
    "y_pred = mul_td_cnn_model.predict(features)\n",
    "y_pred = tf.math.argmax(y_pred, axus=-1)\n",
    "y_true = labels.numpy().flatten()\n",
    "    \n",
    "mul_td_cnn_metrics = score_and_confusion_matrix(y_pred, y_true, \"Multiclass CNN-GRU\", binary=False)"
   ]
  },
  {
   "cell_type": "code",
   "execution_count": null,
   "metadata": {},
   "outputs": [],
   "source": [
    "import multiclass_cnn1d\n",
    "import data_utils\n",
    "\n",
    "mul_cnn1d_model = mul_cnn1d_model.multiclass_CNN1D_model()\n",
    "\n",
    "if not mul_cnn1d_model.built:\n",
    "    mul_bal_train_ds = data_utils.create_binary_dataset(train_bal_files)\n",
    "    mul_bal_val_ds = data_utils.create_binary_dataset(val_bal_files)\n",
    "    history = mul_cnn1d_model.fit(\n",
    "            mul_bal_train_ds,\n",
    "            validation_data = mul_bal_val_ds,\n",
    "            epochs=30,\n",
    "            callbacks = [multiclass_cnn1d.checkpoint_callback],\n",
    "        )\n",
    "    \n",
    "    plot_model_history(history.history, 'Multiclass 1D-CNN')\n",
    "\n",
    "mul_cnn1d_model.summary()\n",
    "\n"
   ]
  },
  {
   "cell_type": "code",
   "execution_count": null,
   "metadata": {},
   "outputs": [],
   "source": [
    "multiclass_sequential_test_ds = data_utils.create_multiclass_sequential_dataset(test_seq_files, batch=False)\n",
    "features = []\n",
    "labels = []\n",
    "\n",
    "for x, y in multiclass_sequential_test_ds:\n",
    "    features.append(x)\n",
    "    labels.append(y)\n",
    "\n",
    "features = tf.concat(features, axis=0)\n",
    "labels = tf.math.argmax(labels, axis=-1)\n",
    "labels = tf.concat(labels, axis=0)\n",
    "\n",
    "y_pred = mul_cnn1d_model.predict(features)\n",
    "y_pred = tf.math.argmax(y_pred, axus=-1)\n",
    "y_true = labels.numpy().flatten()\n",
    "    \n",
    "mul_cnn1d_metrics = score_and_confusion_matrix(y_pred, y_true, \"Multiclass CNN-GRU\", binary=False)"
   ]
  },
  {
   "cell_type": "code",
   "execution_count": null,
   "metadata": {},
   "outputs": [],
   "source": [
    "import multiclass_cnn1d\n",
    "import data_utils\n",
    "\n",
    "mul_cnn1d_model = mul_cnn1d_model.multiclass_CNN1D_model()\n",
    "\n",
    "if not mul_cnn1d_model.built:\n",
    "    mul_bal_train_ds = data_utils.create_binary_dataset(train_bal_files)\n",
    "    mul_bal_val_ds = data_utils.create_binary_dataset(val_bal_files)\n",
    "    history = mul_cnn1d_model.fit(\n",
    "            mul_bal_train_ds,\n",
    "            validation_data = mul_bal_val_ds,\n",
    "            epochs=30,\n",
    "            callbacks = [multiclass_cnn1d.checkpoint_callback],\n",
    "        )\n",
    "    \n",
    "    plot_model_history(history.history, 'Multiclass 1D-CNN')\n",
    "\n",
    "mul_cnn1d_model.summary()\n",
    "\n"
   ]
  },
  {
   "cell_type": "markdown",
   "metadata": {},
   "source": [
    "### Results"
   ]
  },
  {
   "cell_type": "code",
   "execution_count": null,
   "metadata": {},
   "outputs": [],
   "source": [
    "from tensorflow.keras.layers import Input, Dense, TimeDistributed, Concatenate, Lambda\n",
    "\n",
    "input_shape = (None, n_features)\n",
    "input = Input(input_shape)\n",
    "\n",
    "mul_bin_cnn1d_model = TimeDistributed(mul_cnn1d_model)\n",
    "mul_bin_dnn_model = TimeDistributed(mul_dnn_model)\n",
    "\n",
    "mul_base_classifiers = [\n",
    "    mul_td_cnn_model,\n",
    "    td_mul_cnn1d_model,\n",
    "    td_mul_dnn_model,\n",
    "]\n",
    "\n",
    "# disabling training of base classifiers\n",
    "for bc in bin_base_classifiers:\n",
    "    bc.trainable=False\n",
    "\n",
    "base_classifiers_outputs = [bc(input) for bc in mul_base_classifiers]\n",
    "combined_output = Concatenate(axis=-2)(base_classifiers_outputs)\n",
    "\n",
    "\n",
    "y = Lambda(lambda x: tf.math.reduce_mean(x, axis=-2))(base_classifiers_outputs)\n",
    "\n",
    "bin_arithmetic_mean_aggregate1 = tf.keras.Model(input, y)\n",
    "\n",
    "metaclassifier_epochs = 3\n",
    "\n",
    "bin_arithmetic_mean_aggregate1.compile(\n",
    "    optimizer = 'adam',\n",
    "    loss = 'categorical_crossentropy',\n",
    "    metrics=['accuracy', 'precision', 'recall']\n",
    ")\n",
    "\n",
    "mul_arithmetic_mean_aggregate1.summary()"
   ]
  },
  {
   "cell_type": "code",
   "execution_count": null,
   "metadata": {},
   "outputs": [],
   "source": [
    "multiclass_sequential_test_ds = data_utils.create_multiclass_sequential_dataset(test_seq_files)\n",
    "features = []\n",
    "labels = []\n",
    "\n",
    "for x, y in binary_sequential_test_ds:\n",
    "    features.append(x)\n",
    "    labels.append(y)\n",
    "    \n",
    "features = tf.concat(features, axis=0)\n",
    "labels = tf.math.argmax(labels, axis=-1)\n",
    "labels = tf.concat(labels, axis=0)\n",
    "\n",
    "y_pred = mul_arithmetic_mean_aggregate1.predict(features)\n",
    "y_pred = tf.math.argmax(y_pred, axus=-1)\n",
    "y_true = labels.numpy().flatten()\n",
    "    \n",
    "score_and_confusion_matrix(y_pred, y_true, 'Multiclass stacked classifier, F1 score wheighted mean, CNN-GRU, Time Domain CNN, MLP')"
   ]
  }
 ],
 "metadata": {
  "kernelspec": {
   "display_name": "Python 3",
   "language": "python",
   "name": "python3"
  },
  "language_info": {
   "codemirror_mode": {
    "name": "ipython",
    "version": 3
   },
   "file_extension": ".py",
   "mimetype": "text/x-python",
   "name": "python",
   "nbconvert_exporter": "python",
   "pygments_lexer": "ipython3",
   "version": "3.12.7"
  }
 },
 "nbformat": 4,
 "nbformat_minor": 4
}
